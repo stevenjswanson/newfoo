{
 "cells": [
  {
   "cell_type": "code",
   "execution_count": 66,
   "metadata": {
    "editable": false,
    "init_cell": true
   },
   "outputs": [],
   "source": [
    "# This cell runs automatically.  Don't edit it. \n",
    "from notebook import * "
   ]
  },
  {
   "cell_type": "markdown",
   "metadata": {
    "cse142L.is_response": false,
    "deletable": false,
    "editable": true
   },
   "source": [
    "<div class=\"namebox\">    \n",
    "Double Click to edit and enter your\n",
    "\n",
    "1.  Name\n",
    "2.  Student ID\n",
    "3.  @ucsd.edu email address\n",
    "    \n",
    "</div>"
   ]
  },
  {
   "cell_type": "markdown",
   "metadata": {
    "editable": false
   },
   "source": [
    "\n"
   ]
  },
  {
   "cell_type": "markdown",
   "metadata": {
    "editable": false
   },
   "source": [
    "<div class=\"title\">Lab 1: The Performance Equation</div>"
   ]
  },
  {
   "cell_type": "markdown",
   "metadata": {
    "editable": false
   },
   "source": [
    "**Welcome to the first lab of CSE142L!**\n",
    "\n",
    "The main goals of this lab are:\n",
    "\n",
    "1.  To get you set up the lab environment\n",
    "    1.  Github\n",
    "    2.  Github Classroom\n",
    "    3.  Docker\n",
    "    4.  UCSD's Datahub cluster\n",
    "    5.  Jupyter Notebook\n",
    "2.  Gain experience with the performance equation\n",
    "3.  Collect a list of **Interesting Questions** that you probably cannot answer now, but will be able to by the end of the course.\n",
    "\n",
    "This lab will be completed on your own. \n",
    "\n",
    "Check Gradescope for due date(s)."
   ]
  },
  {
   "cell_type": "markdown",
   "metadata": {
    "editable": false
   },
   "source": [
    "# FAQ and Updates\n",
    "\n",
    "* There are no updates, yet."
   ]
  },
  {
   "cell_type": "markdown",
   "metadata": {
    "editable": false
   },
   "source": [
    "# Pre-Lab Reading Quiz"
   ]
  },
  {
   "cell_type": "markdown",
   "metadata": {
    "editable": false
   },
   "source": [
    "Part of this lab is pre-lab quiz. It's on Gradescope, and it's due **before class on the day the lab is assigned**.  It's not hard, but it does require you to read over the lab before class."
   ]
  },
  {
   "cell_type": "markdown",
   "metadata": {
    "editable": false
   },
   "source": [
    "# Browser Compatibility"
   ]
  },
  {
   "cell_type": "markdown",
   "metadata": {
    "editable": false
   },
   "source": [
    "We are still working out some bugs in some browsers.  Here's the current status:\n",
    "\n",
    "1.  Chrome -- well tested.  Preferred option.\n",
    "2.  Firefox -- seems ok, but not thoroughly tested.\n",
    "3.  Edge -- seems ok, but not thoroughly tested.\n",
    "4.  Safari -- not supported at the moment.\n",
    "5.  Internet Explorer -- not supported at the moment.\n",
    "\n",
    "At the moment, the authentication step must be done in Chrome."
   ]
  },
  {
   "cell_type": "markdown",
   "metadata": {
    "editable": false
   },
   "source": [
    "# About Labs In This Class"
   ]
  },
  {
   "cell_type": "markdown",
   "metadata": {
    "editable": false
   },
   "source": [
    "_This section is the same in all the labs.  It's repeated here for your reference._\n",
    "\n",
    "Labs are a way to **learn by doing**.  This means you _must_ **do**.  I have built these labs as Jupyter notebooks so that the \"doing\" is as easy and seamless as possible.\n",
    "\n",
    "In this lab, what you'll do is answer questions about how a program will run and then compare what really happened to your predictions.  Engaging with this process is how you'll learn.  The questions that the lab asks are there for several purposes:\n",
    "\n",
    "1.  To draw your attention to specific aspects of an experiment or of some results.\n",
    "2.  To push you to engage with the material more deeply by thinking about it.\n",
    "3.  To make you commit to a prediction so you can wonder why your prediction was wrong or be proud that you got it right.\n",
    "4.  To provide some practice with skills/concepts you're learning in this course.\n",
    "5.  To test your knowledge about what you've learned.\n",
    "\n",
    "The questions are graded in one of three ways:\n",
    "\n",
    "1. \"Correctness\" questions require you to answer the question and get the correct answer to get full credit.\n",
    "2. \"Completeness\" questions require you to answer the question.\n",
    "3. \"Optional\" questions are...optional.  They are there if you want to go further with the material.\n",
    "\n",
    "Some of the \"Completeness\" problems include a solution that will be hidden until you click \"Show Solution\".  To get the most from them, try them on your own first.\n",
    "\n",
    "Many of the \"Completeness\" questions ask you to make predictions about the outcome of an experiment and write down those predictions.  To maximize your learning, think carefully about your prediction and commit to it.  **You will never be penalized for making an incorrect prediction.**\n",
    "\n",
    "You are free to discuss \"Completeness\" and \"Optional\" questions with your classmates.  You must complete \"Correctness\" questions on your own.\n",
    "\n",
    "If you have questions about any kind of question, please ask during office hours or during class."
   ]
  },
  {
   "attachments": {
    "image.png": {
     "image/png": "[encoded data removed]"
    }
   },
   "cell_type": "markdown",
   "metadata": {
    "editable": false
   },
   "source": [
    "## How To Succeed On the Labs\n",
    "\n",
    "Here are some simple tips that will help you do well on this lab:\n",
    "\n",
    "1.  Read/skim through the entire lab _before_ class.  If something confuses you, you can ask about it.\n",
    "2.  Start early.  Getting answers on edstem/piazza can take time.  So think through the lab questions (and your questions about them) carefully.\n",
    "    1. Go through the lab once (several days before the deadline), do the parts that are easy/make sense\n",
    "    2. Ask questions/think about the rest\n",
    "    3. Come back and do the rest.\n",
    "3.  Start early.  The DSMLP cluster gets busy and slow near deadlines.  \"The cluster was slow the night of the deadline\" is not an excuse for not getting the lab done and it is not justification for asking for an extension.\n",
    "4.  Follow the guidelines below for asking answerable questions on edstem/piazza.\n",
    "\n",
    "You may think to yourself: \"If I start early enough to account for all that, I'd have to start right after the lab was assigned!\"  Good thought!\n",
    "\n",
    "![image.png](attachment:image.png)\n"
   ]
  },
  {
   "cell_type": "markdown",
   "metadata": {
    "editable": false
   },
   "source": [
    "<div class=\"alert alert-block alert-danger\">\n",
    "\n",
    "**The Cluster Will Get Slow** DSMLP and our cloud machines will get crowded and slow _before every deadline_.  This is completely predictable.  DSMLP can also get crowded due to deadlines in other courses.  You need to start early so you can avoid/work around these slowdowns.  Unless there's some kind of complete outage, we will not grant extensions because the servers are crowded.\n",
    "    \n",
    "</div>"
   ]
  },
  {
   "cell_type": "markdown",
   "metadata": {
    "editable": false
   },
   "source": [
    "## Getting Help\n",
    "\n",
    "You might run into trouble while doing this lab.  Here's how to get help:\n",
    "\n",
    "1.  Re-read the instructions and make sure you've followed them.\n",
    "2.  Try saving and reloading the notebook.\n",
    "3.  If it says you are not authenticated, go to the [the login section of the lab](#Logging-In-To-the-Course-Tools) and (re)authenticate.\n",
    "4.  If you get a `FileNotFoundError` make sure you've run all the code cells above your current point in the lab.\n",
    "4.  If you get an exception or stack dump, check that you didn't accidentally modify the contents of one of the python cells.\n",
    "5.  If all else fails, post a question to edstem/piazza.\n",
    "\n",
    "## Posting Answerable Questions on Edstem/Piazza\n",
    "\n",
    "If you want useful answers on edstem/piazza, you need to provide information that is specific enough for us to provide a useful answer.  Here's what we need:\n",
    "\n",
    "1.  Which part of which lab are you working on (use the section numbers)?\n",
    "2.  Which problem (copy and paste the _text_ of the question along with the number).\n",
    "\n",
    "If it's question about instructions:\n",
    "\n",
    "1.  Try to be as specific as you can about what is confusing or what you don't understand (e.g., \"I'm not sure if I should do _X_ or _Y_.\")\n",
    "\n",
    "If it's a question about an error while running code, then we need:\n",
    "\n",
    "1.  If you've committed anything, your github repo url.\n",
    "2.  If you've submitted a job with `cse142` you _must_ provide the job id.  It looks like this: `544e0cf2-4771-43c3-86f8-1c30d7af601f`.  With the id, we can figure out just about anything about your job.  Without it, we know nothing.\n",
    "3.  The _entire_ output you received.  There's no limit on how long an edstem/piazza post can be.  Give us all the information, not just the last few lines.  We like to scroll!\n",
    "\n",
    "For all of the above **paste the text** into the edstem/piazza question.  Please **do not provide screen captures**.  The course staff refuses to type in job ids found in screen shots.\n",
    "\n",
    "\n",
    "<div class=\"alert alert-block alert-danger\">\n",
    "\n",
    "**We Can't Answer Unanswerable Questions** If you don't follow these guidelines (especially about the github repo and the job id), we will probably not be able to answer your question on edstem/piazza.  We will archive it and ask you to re-post your question with the information we need.\n",
    "    \n",
    "</div>"
   ]
  },
  {
   "cell_type": "markdown",
   "metadata": {
    "editable": false
   },
   "source": [
    "## Keeping Your Lab Up-to-Date\n",
    "\n",
    "Occasionally, there will be changes made to the base repository after the\n",
    "assignment is released.  This may include bug fixes and updates to this document.  We'll post on piazza/edstem when an update is available.\n",
    "\n",
    "In those cases, you can use the following commands to pull the changes from upstream and merge them into your code.  You'll need to do this at a shell.  It won't work properly in the notebook.  Save your notebook in the browser first.\n"
   ]
  },
  {
   "cell_type": "markdown",
   "metadata": {
    "editable": false
   },
   "source": [
    "```\n",
    "cd <your directory for this lab>git remote add upstream $(cat .starter_repo)  # You need to do this once each time you checkout a new lab. It will fail \n",
    "                                              # harmlessly if you run it more than once.\n",
    "cp Lab.ipynb Lab.backup.ipynb                 # Backup your work.\n",
    "git commit -am \"My progress so far.\"          # commit your work.\n",
    "git pull upstream main --allow-unrelated-histories -X theirs # pull the updates\n",
    "```\n",
    "\n",
    "Or you can use the script we provide:\n",
    "\n",
    "```\n",
    "./pull-updates\n",
    "```\n"
   ]
  },
  {
   "cell_type": "markdown",
   "metadata": {
    "editable": false
   },
   "source": [
    "Then, reload this page in your browser."
   ]
  },
  {
   "cell_type": "markdown",
   "metadata": {
    "editable": false
   },
   "source": [
    "## How To Use This Document\n",
    "\n",
    "You will use Jupyter Notebook to complete this lab.  You should be able to do much of this lab without leaving Jupyter Notebook.  The main exception will be some of the programming assignments.  The instructions will make it clear when you should use the terminal.\n",
    "\n",
    "### Logging In\n",
    "\n",
    "If you haven't already, you can go to [the login section of the lab](#Logging-In-To-the-Course-Tools) and follow the instructions to login into the course infrastructure.\n",
    "\n",
    "### Running Code\n",
    "\n",
    "Jupyter Notebooks are made up of \"cells\".  Some have Markdown-formatted text in them (like this one).  Some have Python code (like the one below).\n",
    "\n",
    "For code cells, you press `shift-return` to execute the code.  Try it below:"
   ]
  },
  {
   "cell_type": "code",
   "execution_count": 2,
   "metadata": {
    "editable": false
   },
   "outputs": [],
   "source": [
    "print(\"I'm in python\")"
   ]
  },
  {
   "cell_type": "markdown",
   "metadata": {
    "editable": false
   },
   "source": [
    "Code cells can also execute shell commands using the `!` operator.  Try it below:"
   ]
  },
  {
   "cell_type": "code",
   "execution_count": 6,
   "metadata": {
    "editable": false
   },
   "outputs": [],
   "source": [
    "!echo \"I'm in a shell\""
   ]
  },
  {
   "attachments": {
    "image.png": {
     "image/png": "[encoded data removed]"
    }
   },
   "cell_type": "markdown",
   "metadata": {
    "editable": false
   },
   "source": [
    "### Telling What The Notebook is Doing\n",
    "\n",
    "The notebook will only run one cell at a time, so if you press `shift-return` several times, the cells will wait for one another.  You can tell that a cell is waiting if it there's a `*` in the `[]` to the left the cell:\n",
    "\n",
    "![image.png](attachment:image.png)\n"
   ]
  },
  {
   "attachments": {
    "image.png": {
     "image/png": "[encoded data removed]"
    }
   },
   "cell_type": "markdown",
   "metadata": {
    "editable": false
   },
   "source": [
    "You'll can also tell _where_ the notebook is executing by looking at the table of contents on the left.  The section with the currently-executing cell will be red:\n",
    "\n",
    "![image.png](attachment:image.png)"
   ]
  },
  {
   "attachments": {
    "image.png": {
     "image/png": "[encoded data removed]"
    }
   },
   "cell_type": "markdown",
   "metadata": {
    "editable": false
   },
   "source": [
    "### What to Do Jupyter Notebook It Gets Stuck\n",
    "\n",
    "First, check if it's actually stuck: Some of the cells take a while, but they will usually provide some visual sign of progress.  If _nothing_ is happening for more than 10 seconds, it's probably stuck.\n",
    "\n",
    "To get it unstuck, you stop execution of the current cell with the \"interrupt button\":\n",
    "\n",
    "![image.png](attachment:image.png)"
   ]
  },
  {
   "attachments": {
    "image.png": {
     "image/png": "[encoded data removed]"
    }
   },
   "cell_type": "markdown",
   "metadata": {
    "editable": false
   },
   "source": [
    "You can also restart the underlying python instance (i.e., the confusingly-named \"kernel\" which is not the same thing as the operating system kernel) with the restart button:\n",
    "\n",
    "![image.png](attachment:image.png)\n",
    "\n",
    "Once you do this, all the variables defined by earlier cells are gone, so you may get some errors.  You may need to re-run the cells in the current section to get things to work again.\n",
    "\n",
    "You can also reloading the web page.  That will leave Python kernel intact, but it can help with some problems.\n",
    "\n",
    "### Common Errors and Non-Errors\n",
    "\n",
    "1.  If you get `sh: 0: getcwd() failed: no such file or directory`, restart the kernel.\n",
    "2.  If you get `INFO:MainThread:numexpr.utils:Note: NumExpr detected 40 cores but \"NUMEXPR_MAX_THREADS\" not set, so enforcing safe limit of 8.`.  It's not a real error.  Ignore it. \n",
    "3.  If you get a prompt asking `Do you want to cancel them and run this job?` but you can't reply because you can't type into an output cell in Jupyter notebook, replace `cse142 job run` with `cse142 job run --force`. (see useful tip below.)\n",
    "4.  If you get an `Error: Your request failed on the server: 500 Server Error: Internal Server Error for url=http://cse142l-dev.wl.r.appspot.com/file`, trying running the job again."
   ]
  },
  {
   "attachments": {
    "image.png": {
     "image/png": "[encoded data removed]"
    }
   },
   "cell_type": "markdown",
   "metadata": {
    "editable": false
   },
   "source": [
    "### Useful Tips\n",
    "\n",
    "1.  If you need to edit a cell, but you can't you can unlock it by pressing this button in the tool bar (although you probably shouldn't do this because it might make the lab work incorrectly.  A better choice is to copy and paste the cell, _and then_ unlock the copy):\n",
    "![image.png](attachment:image.png)"
   ]
  },
  {
   "attachments": {
    "image.png": {
     "image/png": "[encoded data removed]"
    }
   },
   "cell_type": "markdown",
   "metadata": {
    "editable": false
   },
   "source": [
    "### The Embedded Code\n",
    "\n",
    "The code embedded in the lab falls into two categories:\n",
    "\n",
    "1.  Code you need to edit and understand.\n",
    "2.  Code that you do not need to edit or understand -- it's just there to display something for you.\n",
    "\n",
    "For code in the first category, the lab will make it clear that you need to study, modify, and/or run the code.  If we don't explicitly ask you to do something, you don't need to.\n",
    "\n",
    "Most of the code in the second category is for drawing graphs.  You can just run it with shift-return to the see the results.  If you are curious, it's mostly written with `Pandas` and `matplotlib`. The code is all in `notebook.py`.   These cells should be un-editable.  However, if you want to experiment with them, you can copy _the contents_ of the cell into a new cell and do whatever you want (If you copy the cell, the copy will also be uneditable).\n",
    "\n",
    "<div class=\"alert alert-block alert-info\">\n",
    "\n",
    "**Most Cells are Immutable** Many of the cells of this notebook are uneditable. The only ones you should edit are some of the code cells and the text cells with questions in them.\n",
    "</div>\n",
    "\n",
    "<div class=\"alert alert-block alert-info\">\n",
    "\n",
    "**Pro Tip** The \"carrot\" icon in the lower right (shown below) will open a scratch pad area.  It can be a useful place to do math (or whatever else you want.\n",
    "    \n",
    "![image.png](attachment:image.png)\n",
    "</div>"
   ]
  },
  {
   "attachments": {
    "image.png": {
     "image/png": "[encoded data removed]"
    }
   },
   "cell_type": "markdown",
   "metadata": {
    "editable": false
   },
   "source": [
    "### Showing Your Work\n",
    "\n",
    "Several questions ask you to show your work for calculations.  We don't need anything fancy.  Many of the questions ask you to compute something based on results of an experiment.  Your experimental results will be different than others', so your answer will be different as well.\n",
    "\n",
    "To make it possible to grade your work (and give you partial credit), we need to know where your answer came from.  This why you need to show your work.  For instance this would be fine as answer to \"On average, how many weeks do you have per lab?\":\n",
    "\n",
    "```\n",
    "Weeks in the summer session/# of labs = 5/5 = 1 weeks/lab\n",
    "```\n",
    "\n",
    "2 significant figures is sufficient in all cases, but you can include more, if you want.\n",
    "\n",
    "If you are feeling fancy, you can use LaTex, but it's not at all required.\n",
    "\n",
    "When it's appropriate, you can also paste in images.  However, Jupyter Notebook is flaky about it.  Save your notebook by clicking the disk icon:\n",
    "\n",
    "![image.png](attachment:image.png)"
   ]
  },
  {
   "cell_type": "markdown",
   "metadata": {
    "editable": false
   },
   "source": [
    "### Answering Questions\n",
    "\n",
    "Throughout this document, you'll see some questions (like the one below).  You can double click on them to edit them and fill in your answer.  Try not to mess up the formatting (so it's easy for us to grade), but at least make sure your answer shows up clearly.  When you are done editing, you can `shift-return` to make it pretty again.\n",
    "\n",
    "A few tips, pointers, and caveats for answering questions:\n",
    "\n",
    "1. The answers are all in [github-flavored markdown](https://guides.github.com/features/mastering-markdown/) with some html sprinkled in.  Leave the html alone.\n",
    "2. Many answers require you to fill in a table, and many of the `|` characters will be missing.  You'll need to add them back.\n",
    "3. The HTML needs to start at the beginning of a line.  If there are spaces before a tag, it won't render properly.  If you accidentally add white space at the beginning of a line with an html tag on it, you'll need to fix it.\n",
    "4. Text answers also need to start at the beginning of a line, otherwise they will be rendered as code.\n",
    "5. Press `shift-return` or `option-return` to render the cell and make sure it looks good.\n",
    "6. There needs to be a blank line between html tags and markdown.  Otherwise, the markdown formatting will not appear correctly.\n",
    "\n",
    "\n",
    "You'll notice that there are three kinds of questions: \"Correctness\", \"Completeness\", and \"Optional\".  You need to provide an answer to the \"Completeness\" questions, but you won't be graded on its correctness.  You'll need to answer \"Correctness\" questions correctly to get credit.  The \"Optional\" questions are optional."
   ]
  },
  {
   "cell_type": "code",
   "execution_count": null,
   "metadata": {
    "editable": false
   },
   "outputs": [],
   "source": []
  },
  {
   "cell_type": "markdown",
   "metadata": {
    "editable": false
   },
   "source": [
    " \n"
   ]
  },
  {
   "cell_type": "markdown",
   "metadata": {
    "editable": false
   },
   "source": [
    "Give it a try:"
   ]
  },
  {
   "cell_type": "markdown",
   "metadata": {
    "cse142L.is_response": true,
    "cse142L.points": 1,
    "cse142L.question_type": "completeness",
    "deletable": false,
    "editable": true,
    "solution2": "hidden",
    "solution2_first": true
   },
   "source": [
    "<div class='question completeness'>\n",
    "    \n",
    "<div class=\"question-text\">\n",
    "\n",
    "What will you do with your Jupyter Notebook to turn it in (Delete _all_ incorrect answers)? Then fill in the table.  Fix the formatting of the last line and the closing tag.\n",
    "</div>\n",
    "\n",
    "<div class=\"answer\">\n",
    "1.  Print it out on paper and slide it under the professor's door.\n",
    "2.  Follow the directions at the end of the lab to produce a pdf\n",
    "3.  Read it aloud to a TA during office hours\n",
    "4.  Submit via gradescope.\n",
    "    \n",
    "| Random Fact         | Value | Second choice |\n",
    "|---------------------|-------|---------------|\n",
    "| Your favorite color |      \n",
    "| Favorite food on campus | \n",
    "| Time of day ||\n",
    "    \n",
    "    This answer is formatted poorly.\n",
    "    </div>\n",
    "</div>"
   ]
  },
  {
   "cell_type": "markdown",
   "metadata": {
    "editable": false,
    "solution2": "hidden"
   },
   "source": [
    "<div class=\"solution\">\n",
    "\n",
    "This is a solution to a \"completeness\" or \"optional\" problem.  It'll give some details of how to solve the problem.  The solutions I give will be much more complete and detailed than what you need to provide for your answers to questions.\n",
    "    \n",
    "In this case, let's analyze each possible answer:\n",
    "    \n",
    "1.  ~Since the professor is a CS professor, he doesn't know how to deal with paper and the TAs do most of the grading, so this a poor choice.~\n",
    "2.  \"Following the directions\" is always a good idea.\n",
    "3.  ~There are  about 300 of you enrolled.  The poor TAs would die of exhaustion and boredom.~\n",
    "4.  Yes!\n",
    "\n",
    "So you should have deleted 1 and 3.\n",
    "\n",
    "For the table, you can enter whatever you want for the answers, but note that some of the `|`s are missing.  It renders fine in question, but you'll need to add the `|`s back to fill out the table.\n",
    "    \n",
    "For the last line, there are spaces before the text, so it gets rendered in a fixed-width font.  You should remove the leading spaces, so it looks like this:\n",
    "    \n",
    "This is formatted ~poorly~ beautifully.\n",
    "\n",
    "Likewise, remove the leading space before the `<div>`."
   ]
  },
  {
   "cell_type": "markdown",
   "metadata": {
    "editable": false
   },
   "source": [
    "# Logging In To the Course Tools"
   ]
  },
  {
   "cell_type": "markdown",
   "metadata": {
    "editable": false
   },
   "source": [
    "    \n",
    "In the course you will use some specialized tools to let you perform detailed measurements of program behavior.  To use them you need to login with your `@ucsd.edu` email address using the instructions below. **You need to use the email address that appears on the course roster.  That's the email address we created an account for.  In almost all cases, this is your `@ucsd.edu` email address.**\n",
    "\n",
    "You'll do this periodically when you get an error about not being authenticated.  You can return to this notebook (or any other of the lab notebooks) to login at any time.\n",
    "\n",
    "Here's what to do:\n",
    "\n",
    "1.  Enter your `@ucsd.edu` email address in quotes after `login` below.  It'll take a few seconds to load.\n",
    "2.  Click the google \"G\" login button below and login with your `@ucsd.edu` email address. \n",
    "3. **Click the google button regardless of whether it says \"sign in\" or \"signed in\".  Then be sure to select your `@ucsd.edu account` if it shows you multiple google acocunts**\n",
    "4. You'll see a very long string numbers an letters appear above.  Click \"Copy it\" to copy it.\n",
    "\n",
    "**Note:** If it doesn't give you a choice about which account to log into and authentication fails, that means you are logged into a single Google account and that account is _not_ your `@ucsd.edu` account.  You'll have to log into your `@ucsd.edu` through Gmail or through Chrome's account manager and then try again.\n",
    "\n",
    "<div class=\"alert alert-block alert-danger\">\n",
    "\n",
    "**Use Chrome** The login process doesn't seem to work properly with Safari or Firefox.  Use Chrome to login.  You can use any of the other compatible browsers you want for the doing the rest of the lab, and it should be fine.\n",
    "\n",
    "</div>"
   ]
  },
  {
   "cell_type": "code",
   "execution_count": 2,
   "metadata": {
    "editable": true
   },
   "outputs": [],
   "source": [
    "login(\"<Your @ucsd.edu email address>\") \n"
   ]
  },
  {
   "cell_type": "markdown",
   "metadata": {
    "editable": false
   },
   "source": [
    "Next step:  Paste it below between the quote marks.  Press `shift-return`."
   ]
  },
  {
   "cell_type": "code",
   "execution_count": 1,
   "metadata": {
    "cse142L.is_response": true,
    "deletable": false,
    "editable": true
   },
   "outputs": [],
   "source": [
    "token(\"your_token\") \n",
    "\n"
   ]
  },
  {
   "cell_type": "markdown",
   "metadata": {
    "editable": false
   },
   "source": [
    "It should have replied with\n",
    "\n",
    "``` \n",
    "You are authenticated as <your email>\n",
    "```\n",
    "\n",
    "You are now logged in!  Try submitting a job: "
   ]
  },
  {
   "cell_type": "code",
   "execution_count": 1,
   "metadata": {
    "editable": false
   },
   "outputs": [],
   "source": [
    "!cse142 job run \"echo Hello World\""
   ]
  },
  {
   "cell_type": "markdown",
   "metadata": {
    "editable": false
   },
   "source": [
    "If you see \"Hello World\", you're all set.  Proceed with the lab!\n",
    "\n",
    "<div class=\"alert alert-block alert-danger\">\n",
    "\n",
    "Delete your token from the above cell. Because your token is esssentially your username and password combined, you should treat it like a password or ssh private key.  **Sharing your token with another student or posessing another student's token is an AI violation**.\n",
    "</div>"
   ]
  },
  {
   "cell_type": "markdown",
   "metadata": {
    "editable": false
   },
   "source": [
    " \n"
   ]
  },
  {
   "cell_type": "markdown",
   "metadata": {
    "editable": false
   },
   "source": [
    "# Grading\n",
    "\n",
    "This is a 1 week lab.\n",
    "\n",
    "Your grade for this lab will be based on your completion and submission of this notebook.\n",
    "\n",
    "| Part                       | value |\n",
    "|----------------------------|-------|\n",
    "| Jupyter Notebook           | 90%   |\n",
    "| Programming Assignment     | 8%    |\n",
    "| Post-lab survey            | 2%    |\n",
    "\n",
    "We will grade 5 of the \"completeness\" problems.  They are worth 3 points each.  We will grade all of the \"correctness\" questions.\n",
    "\n",
    "Check Gradescope for the due dates.\n",
    "\n",
    "Instructions for submitting the lab are at the end of the lab.\n",
    "\n",
    "No late work or extensions will be allowed."
   ]
  },
  {
   "cell_type": "markdown",
   "metadata": {
    "editable": false
   },
   "source": [
    "# Academic Integrity Agreement"
   ]
  },
  {
   "cell_type": "markdown",
   "metadata": {
    "editable": false
   },
   "source": [
    "To continue in the class, you need to agree to the following:\n",
    "\n",
    "At UCSD, academic integrity[1] means that you have the courage, even when\n",
    "it is difficult, to only submit academic work that is honest,\n",
    "responsible, respectful, fair, and trustworthy. When you excel with\n",
    "integrity in computer science, it means that you:\n",
    "\n",
    "\n",
    "**Honest** submit work that is a truthful demonstration of your\n",
    "            knowledge and abilities (rather than the knowledge and\n",
    "            abilities of another)\n",
    "\n",
    "**Responsible** manage your time so that you are not pressured to\n",
    "            complete an assignment at the last minute\n",
    "\n",
    "**Respectful** acknowledge the contributions of others to your work by\n",
    "            citing them when ve used their words or ideas (e.g., after\n",
    "            I've spoken to classmates or after I've used portions of\n",
    "            a code written by another if permitted)\n",
    "\n",
    "**Fair** complete your academic work according to stated standards and\n",
    "            expectations even when it takes longer or re struggling\n",
    "\n",
    "**Trustworthy** can be trusted to be honest, responsible, respectful,\n",
    "            and fair even when no one is watching you.\n",
    "\n",
    "\n",
    "When you act contrary to these values, you are cheating. Cheating\n",
    "undermines trust between students and professors, the value of the\n",
    "UCSD degree, and your learning/development of skills.\n",
    "\n",
    "While we can't list every behavior that would be cheating, we can give\n",
    "you some illustrative examples like the following:\n",
    "\n",
    "* Submitting any source code written by another person or copied from\n",
    "  another person, submitting homework answers which were produced by\n",
    "  another student.\n",
    "\n",
    "* Submitting code/homework you have previously submitted to another\n",
    "  course for credit without first obtaining permission from the \n",
    "  instructor. The same restriction holds for publicly available\n",
    "  code/homework solutions that you haven't written.  Taking notes\n",
    "  taken during any discussions with classmates about an assignment is\n",
    "  prohibited.\n",
    "\n",
    "* Using words or text written by someone else without citing text\n",
    "  appropriately. Every figure or sentence fragment must be\n",
    "  appropriately decorated with quotation marks or indention to\n",
    "  indicate very clearly that someone else wrote the text. In addition,\n",
    "  the passage must be labeled with a citation or citation number which\n",
    "  refers to a footnote or bibliographic entry. Citing a paper once is\n",
    "  not enough. Remember: citations should be used to illuminate a\n",
    "  viewpoint which you hold. They are not a substitute for expressing\n",
    "  your own ideas in your own words.\n",
    "\n",
    "* Submitting any portion(s) of an assignment you have previously\n",
    "  submitted for credit in another course.\n",
    "\n",
    "* Copying from a neighbor during an exam or using an unauthorized aid\n",
    "  to help you on your exam.\n",
    "\n",
    "* Altering a graded exam or assignment and resubmitting it for regrade\n",
    "\n",
    "* Allowing someone else to complete an assignment or exam for you, or\n",
    "  allowing them to pretend to be you in class (e.g., by signing an\n",
    "  attendance form or clicking for you).\n",
    "\n",
    "* Making available to others source code, documentation, or notes\n",
    "  useful for completing an assignment. You should neither produce,\n",
    "  procure, nor accept such material. This includes students in\n",
    "  current, past, and future offerings of the course, and applies to\n",
    "  electronic transmissions including email, web pages, ftp, and so on,\n",
    "  as well as hard copy such as source code listings.\n",
    "\n",
    "* Possessing (at any time) source code, data, or answers to homeworks or \n",
    "  lab questions created by another student.  Having had \n",
    "  any of these items in your possession (e.g., in your directory on the \n",
    "  campus servers or on your personal computer) at any time, constitutes \n",
    "  cheating.  You should never accept these materials from anyone for any \n",
    "  reason.\n",
    "  \n",
    "* Running other students' code from your account or allowing another student submit code using your credentials.\n",
    "\n",
    "If the behavior you are considering isn't listed here, don't assume that it is\n",
    "allowed.  Rather, you should always do independent work unless told otherwise. And\n",
    "before completing your academic work in a certain way, you should ask\n",
    "is it honest, respectful, responsible, fair, and trustworthy.  You can also ask yourself \"Would\n",
    "I be okay if my methods were exposed to the TA, professors, and fellow students?\" If the\n",
    "answer is no, you shouldn't do it.\n",
    "\n",
    "**If you have any questions about what is and isn't cheating, be sure\n",
    "  to discuss them with the instructor.**\n",
    "\n",
    "Any student who cheats, thereby undermining integrity, will be\n",
    "reported to the Academic Integrity Office.  Students who cheat face\n",
    "various disciplinary sanctions as well as academic penalty imposed by\n",
    "the instructor in the course.  _Academic penalties include, but are\n",
    "not limited to, receiving a grade of 0 for the assignment or test in\n",
    "question, and receiving an 'F' for the course._\n",
    "\n",
    "[1] For more information on academic integrity, including how you can\n",
    "excel with integrity, as well as information on sanctioning guidelines\n",
    "for cheating, visit the Academic Integrity Office website at:\n",
    "http://academicintegrity.ucsd.edu"
   ]
  },
  {
   "cell_type": "markdown",
   "metadata": {
    "cse142L.is_response": true,
    "cse142L.points": 1,
    "cse142L.question_type": "correctness",
    "deletable": false,
    "editable": true
   },
   "source": [
    "<div class=\"question correctness points-1\">\n",
    "\n",
    "<div class=\"question-text\"> Please affirm your adherence to this agreement</div>\n",
    "\n",
    "Type 'I excel with integrity' here: [` type it (leave the brackets)`]\n",
    "\n",
    "By submitting this file, I, [`Your Name`], a student enrolled in\n",
    "CSE142L affirm the principle of academic integrity and commit to excel\n",
    "with integrity by completing all academic assignments in the manner\n",
    "expected as described above, informing the instructor of suspected\n",
    "instances of academic misconduct by my peers, and fully engaging in\n",
    "the class and its related assignments for the purpose of learning.\n",
    "\n",
    "To electronically sign this document, Enter your full name, date, and\n",
    "student ID below:\n",
    "\n",
    "[` full name            `] / [` date `] / [`Student ID #              `]\n",
    "\n",
    "**This document was written in part by Rick Ord, CSE Lecturer and Dr. Bertram Gallant, Director of the UCSD Academic Integrity Office.**\n",
    "\n",
    "\n",
    "</div>"
   ]
  },
  {
   "cell_type": "markdown",
   "metadata": {
    "editable": false
   },
   "source": [
    "# Skills to Learn\n",
    "\n",
    "1. Get access to docker\n",
    "2. git/GitHub basics\n",
    "3. Navigating a Jupyter Notebook\n",
    "4. Think code and predict its behavior."
   ]
  },
  {
   "cell_type": "markdown",
   "metadata": {
    "editable": false
   },
   "source": [
    "# Building and Running Code"
   ]
  },
  {
   "cell_type": "markdown",
   "metadata": {
    "editable": false
   },
   "source": [
    "In this class, we will spend a lot of time measuring the behavior of programs.  To do this accurately, we need to run the code by itself on a machine, so that other programs don't interfere with our measurements.  As you'll experience, DSMLP is a very \"noisy\" environment from a performance perspective.\n",
    "\n",
    "To get good measurements, we'll run our experiments \"in the cloud\" on some dedicated _bare metal_ servers where nothing else runs.  Since those servers are expensive, we have to share 12 of them across all the students in the course.  So, rather than have you log in directly, you can build your code on DSMLP, debug your code on DSMLP, and then submit \"jobs\" to run in the cloud.\n",
    "\n",
    "\n",
    "## Build The Code Locally\n",
    "\n",
    "We'll build executables using `make`.  For instance, you can compile `hello_world.cpp` into `hello_world.exe` by typing this at your Linux shell prompt:\n",
    "\n",
    "```\n",
    "make hello_world.exe\n",
    "```\n",
    "\n",
    "Or, you can do that from right here in the note book by putting a `!` in front.  Type \n",
    "```\n",
    "!make hello_world.exe\n",
    "```\n",
    "\n",
    "Like this:"
   ]
  },
  {
   "cell_type": "code",
   "execution_count": null,
   "metadata": {
    "editable": false,
    "scrolled": true
   },
   "outputs": [],
   "source": [
    "!make hello_world.exe"
   ]
  },
  {
   "cell_type": "markdown",
   "metadata": {
    "editable": false
   },
   "source": [
    "## Run the Code Locally\n",
    "\n",
    "Then you can run it like so:"
   ]
  },
  {
   "cell_type": "code",
   "execution_count": null,
   "metadata": {
    "editable": false,
    "scrolled": true
   },
   "outputs": [],
   "source": [
    "!./hello_world.exe\n",
    "!./hello_world.exe something"
   ]
  },
  {
   "cell_type": "markdown",
   "metadata": {
    "cse142L.is_response": true,
    "cse142L.points": 1,
    "cse142L.question_type": "completeness",
    "deletable": false,
    "editable": true
   },
   "source": [
    "<div class=\"question completeness\">\n",
    "\n",
    "<div class=\"question-text\">\n",
    "    \n",
    "In the code  cell below use the `!` to build and run `microbench.exe`.  (`microbench.exe` will say \"Execution Complete\" and exit).\n",
    "</div>\n",
    "\n",
    "</div>"
   ]
  },
  {
   "cell_type": "code",
   "execution_count": null,
   "metadata": {
    "cse142L.is_response": true,
    "deletable": false,
    "editable": true
   },
   "outputs": [],
   "source": [
    "\n",
    "#Put your commands here\n"
   ]
  },
  {
   "cell_type": "markdown",
   "metadata": {
    "editable": false
   },
   "source": [
    "## Run the Code Remotely\n",
    "\n",
    "To run a job, you tell `cse142 job run` what command you would like to run.  It gathers up _all the files_ (well, not quite all of them, but most of them) in your lab directory, ships them to the bare-metal server, unpacks them, runs your command, gathers up the files that have changed, ships them back and unpacks them in your directory.  This makes it look like the command ran locally.\n",
    "\n",
    "Let's try it with something simple:"
   ]
  },
  {
   "cell_type": "code",
   "execution_count": 25,
   "metadata": {
    "editable": false
   },
   "outputs": [],
   "source": [
    "!make hello_world.exe\n",
    "!cse142 job  run './hello_world.exe'"
   ]
  },
  {
   "cell_type": "markdown",
   "metadata": {
    "editable": false
   },
   "source": [
    "Note that we didn't need to compile `hello_world.exe` on the remote machine because `cse142` copied the executable to the cloud.\n",
    "\n",
    "The output shows some job status information as it runs.  The job moves through several states as it executes.  The time it spends `RUNNING` is time it took your code to execute.  `PUBLISHED` and `SCHEDULED` (maybe not shown above) means it was waiting for a machine.\n",
    "\n",
    "And the output of the job is near the end:\n",
    "\n",
    "```\n",
    "Hello cse142L!\n",
    "```\n",
    "\n",
    "You can run anything you want on the other side.  For fun, let's build the executable over there and then run it:"
   ]
  },
  {
   "cell_type": "code",
   "execution_count": 33,
   "metadata": {
    "editable": false
   },
   "outputs": [],
   "source": [
    "!make clean\n",
    "!cse142 job run --force 'make hello_world.exe; ./hello_world.exe' "
   ]
  },
  {
   "attachments": {
    "image.png": {
     "image/png": "[encoded data removed]"
    }
   },
   "cell_type": "markdown",
   "metadata": {
    "editable": false
   },
   "source": [
    "Now you can see the compiler output and you'll notice that it copied back the files it modified while building `hello_world.exe`.\n",
    "\n",
    "```\n",
    "./build/hello_world.cpp\n",
    "./build/hello_world.d\n",
    "./build/hello_world.o\n",
    "./hello_world.exe\n",
    "```\n",
    "\n",
    "<div class=\"alert alert-block alert-danger\">\n",
    "    \n",
    "**With great power comes great responsibility.**  You can run pretty much whatever you want on the remote machine, but the code runs in a docker-based sandbox (using the same image you are running locally) and there's a time limit.  Nevertheless, there are probably ways for you to crash the remote machine or cause it to malfunction.  Doing so intentionally is against the rules.  If we find you've done so, we'll disable your account and you'll have to find some other way to complete the labs.\n",
    "    \n",
    "![image.png](attachment:image.png)\n",
    "\n",
    "</div>"
   ]
  },
  {
   "cell_type": "markdown",
   "metadata": {
    "editable": false
   },
   "source": [
    "# Analyzing Program Behavior with the Performance Equation"
   ]
  },
  {
   "cell_type": "markdown",
   "metadata": {
    "editable": false
   },
   "source": [
    "<div class=\"alert alert-block alert-success\">\n",
    "    \n",
    "**Keep track of questions you have.**  This lab is more about collecting questions than finding answers.  I've called out some interesting questions throughout the lab.  The last question of the lab asks for _other_ questions you had while examining the data you'll collect below, so keep track of them as you work through the lab.\n",
    "\n",
    "</div>"
   ]
  },
  {
   "cell_type": "markdown",
   "metadata": {
    "editable": false
   },
   "source": [
    "## Meet the Code!\n",
    "\n",
    "In this lab we are going to analyze a few simple funtions in`microbench.cpp`.  The first is `baseline_int()`:"
   ]
  },
  {
   "cell_type": "code",
   "execution_count": 67,
   "metadata": {
    "editable": false,
    "init_cell": true
   },
   "outputs": [],
   "source": [
    "render_code(\"microbench.cpp\", show=\"baseline_int\")"
   ]
  },
  {
   "cell_type": "markdown",
   "metadata": {
    "editable": false
   },
   "source": [
    "`baseline_int()`  initilizes `array` and then does some multiplies and additions to update it's contents.  It's not a useful computation, so don't spend time trying to figure out what it does.\n",
    "\n",
    "Compile the code to create `microbench.exe` and then run it:"
   ]
  },
  {
   "cell_type": "code",
   "execution_count": null,
   "metadata": {
    "editable": false
   },
   "outputs": [],
   "source": [
    "!make microbench.exe"
   ]
  },
  {
   "cell_type": "code",
   "execution_count": null,
   "metadata": {
    "editable": false
   },
   "outputs": [],
   "source": [
    "!./microbench.exe --help"
   ]
  },
  {
   "cell_type": "markdown",
   "metadata": {
    "editable": false
   },
   "source": [
    "As you can see, there are quite a few command line options for such a simple program.   These options are the interface to the data collection library we will be using in the class.  They control how our \"functions under test\" (FUTs) (i.e., `baseline_int()`) will be run.  We'll learn about them in more details as the quarter progresses.\n",
    "\n",
    "For now, let's use three arguments:\n",
    "\n",
    "* `--function` to run `baseline_int`\n",
    "* `--stats` to put the results in `first.csv`\n",
    "* `--reps` will run the test 2 times\n",
    "* `--size` will run tests on two different sized arrays.\n",
    "\n",
    "`microbenchmark.exe` will run all the funtions listed after `--function` for all the array sizes given by `--size`, and it will do it all 2 times, so that's a total of 4 measurements it will take.\n",
    "\n",
    "We can run it locally:"
   ]
  },
  {
   "cell_type": "code",
   "execution_count": null,
   "metadata": {
    "editable": false
   },
   "outputs": [],
   "source": [
    "!./microbench.exe --stats first.csv --reps 2 --size 1024 2048 --function baseline_int"
   ]
  },
  {
   "cell_type": "markdown",
   "metadata": {
    "editable": false
   },
   "source": [
    "`first.csv` contains some data about how the program run.  You can see the raw data:"
   ]
  },
  {
   "cell_type": "code",
   "execution_count": null,
   "metadata": {
    "editable": false
   },
   "outputs": [],
   "source": [
    "!cat first.csv"
   ]
  },
  {
   "cell_type": "markdown",
   "metadata": {
    "editable": false
   },
   "source": [
    "And render it nicely:"
   ]
  },
  {
   "cell_type": "code",
   "execution_count": null,
   "metadata": {
    "editable": false
   },
   "outputs": [],
   "source": [
    "render_csv(\"first.csv\")"
   ]
  },
  {
   "cell_type": "markdown",
   "metadata": {
    "editable": false
   },
   "source": [
    "Here's what the column means:\n",
    "\n",
    "1.  `size` is the size of the `array`\n",
    "2.  `cmdlineMHz` is the CPU clock speed it tried to run at.   '0' means the default.\n",
    "2.  `function` is the the function in this line is for.\n",
    "3.  `rep` is the 'repetition number' (explained below).\n",
    "3.  `WallTime` is the number of seconds the program ran.\n",
    "4.  Ignore `Unnamed: 6` its existence is a bug I haven't had time to fix.\n",
    "\n",
    "Let's focus on a few columns:"
   ]
  },
  {
   "cell_type": "code",
   "execution_count": null,
   "metadata": {
    "editable": false
   },
   "outputs": [],
   "source": [
    "render_csv(\"first.csv\", columns=[\"function\", \"rep\", \"size\"])"
   ]
  },
  {
   "cell_type": "markdown",
   "metadata": {
    "editable": false
   },
   "source": [
    "## Measuring The Performance Equation\n",
    "Now that we know how to take measurements, we can try to understand `baseline_int()`'s performance.  We will do this using the performance equation:\n",
    "\n",
    "```\n",
    "ET = IC * CPI * CT\n",
    "```\n",
    "\n",
    "So, we'll need to measure `IC` (instruction count), `CPI` (cycles per instruction), `CT` (cycle time), and `ET`, and we'll do that using \"performance counters\".  `microbench.exe` already has support for performance counters built in, we just need to tell it to collect data.  We can do that using the command below.  Here's what the additions to the command line mean.\n",
    "\n",
    "1. `--reps` will run the test 25 times so we can average across lots of runs.\n",
    "2. `--stat-set ./PE.cfg` configures `microbench.exe` to collect the data we need. (If your curious, take a look at `PE.cfg` in the lab directory)\n",
    "3.  We set the clock speed to 3500MHz with `--MHz 3500`.\n",
    "\n",
    "**Performance counters _only_ work on the bare metal servers.** In fact, `--stat-set ./PE.cfg` makes it fail locally:"
   ]
  },
  {
   "cell_type": "code",
   "execution_count": null,
   "metadata": {
    "editable": false
   },
   "outputs": [],
   "source": [
    "!./microbench.exe --stats inst_count.csv --MHz 3500 --reps 25 --function baseline_int --stat-set ./PE.cfg"
   ]
  },
  {
   "cell_type": "markdown",
   "metadata": {
    "editable": false
   },
   "source": [
    "So run it in the cloud:"
   ]
  },
  {
   "cell_type": "code",
   "execution_count": null,
   "metadata": {
    "editable": false
   },
   "outputs": [],
   "source": [
    "!cse142 job run --force './microbench.exe --stats inst_count.csv --MHz 3500 --reps 25 --function baseline_int --stat-set ./PE.cfg'"
   ]
  },
  {
   "cell_type": "code",
   "execution_count": null,
   "metadata": {
    "editable": false
   },
   "outputs": [],
   "source": [
    "render_csv(\"inst_count.csv\", columns=columns, average_by=\"size\")  # Compute averages across all the reps."
   ]
  },
  {
   "cell_type": "markdown",
   "metadata": {
    "editable": false
   },
   "source": [
    "We are going to see a lot of data like this so, let's be clear about what they mean:\n",
    "\n",
    "| size| IC | CPI | CT | ET | cmdlineMHz|realMHz|\n",
    "|-----|----|-----|----|----|-----------|-------|\n",
    "| size of `array` |  dynamic instructions executed | Cycles/instruction | Cycle Time | Execution Time  | MHz value from the command line| Measured MHZ|\n",
    "\n",
    "Note that `MHz` and `realMHz` don't quite match.  This is due to noise in how we measure elapsed time and \"cold start\" effects which cause the very first repetition to be much noiser than than the others."
   ]
  },
  {
   "cell_type": "markdown",
   "metadata": {
    "editable": false
   },
   "source": [
    "## Meet Your Processor"
   ]
  },
  {
   "cell_type": "markdown",
   "metadata": {
    "editable": false
   },
   "source": [
    "Let's gather a little bit of information about the CPU we'll be using.  We can just ask the OS:"
   ]
  },
  {
   "cell_type": "code",
   "execution_count": 43,
   "metadata": {
    "cse142L.is_response": true,
    "deletable": false,
    "editable": false
   },
   "outputs": [],
   "source": [
    "\n",
    "!cse142 job run --force lscpu"
   ]
  },
  {
   "cell_type": "markdown",
   "metadata": {
    "editable": false
   },
   "source": [
    "As you can see it's a E-1246G CPU running at 3.5GHz.  The model number probably doesn't mean anything to you, but that's what [google is for](https://ark.intel.com/content/www/us/en/ark/products/134866/intel-xeon-e-2146g-processor-12m-cache-up-to-4-50-ghz.html)."
   ]
  },
  {
   "cell_type": "markdown",
   "metadata": {
    "cse142L.is_response": true,
    "cse142L.points": 2,
    "cse142L.question_type": "correctness",
    "deletable": false,
    "editable": true
   },
   "source": [
    "<div class=\"question correctness points-2\">\n",
    "<div class=\"question-text\">Based on the program output and link above, fill out the table below.  Some of the information is in the output above, some you'll need to google for. \"Technology node\" is roughly the size of the smallest transistors used in designing the chip.:</div>\n",
    "\n",
    "<div class=\"answer\">\n",
    "    \n",
    "| Parameter | Value |\n",
    "|-----------------------------|-------|\n",
    "|How many physical cores?     | [YOUR ANSWER HERE] \n",
    "|How many threads?            | \n",
    "|Base processor frequency     |\n",
    "|Max turbo boost frequency    |\n",
    "|Process technology node (nm) | \n",
    "|L1 data cache size (d)               | \n",
    "|L1 instruction cache size (i)               | \n",
    "|L2 Cache size                | \n",
    "|L3 Cache size                | \n",
    "    \n",
    "</div>    \n",
    "</div>"
   ]
  },
  {
   "cell_type": "markdown",
   "metadata": {
    "cse142L.is_response": true,
    "cse142L.question_type": "optional",
    "deletable": false,
    "editable": true
   },
   "source": [
    "<div class=\"question optional\">\n",
    "<div class=\"question-text\">Here's some other interesting questions to look into about our processor:</div>\n",
    "\n",
    "<div class=\"answer\">\n",
    "\n",
    "1.  What's the Intel code name for our processor's microarchitecture?  When was it introduced?\n",
    "2.  What's the maximum clock rate at which processors with this microarchitecture can run?\n",
    "3.  What's the most cores available on a single die with this microarchitecture? \n",
    "3.  What major revision of Intel's microarchitecture is it a part of?  How old is this basic design?\n",
    "4.  What do all the things under `Flags` mean?\n",
    "    \n",
    "Here are some resources:\n",
    "    \n",
    "1. https://en.wikipedia.org/wiki/List_of_Intel_CPU_microarchitectures\n",
    "2. https://en.wikichip.org/wiki/WikiChip\n",
    "\n",
    "</div>    \n",
    "</div>    "
   ]
  },
  {
   "cell_type": "markdown",
   "metadata": {
    "editable": false
   },
   "source": [
    "## Instruction Count\n",
    "\n",
    "Let's see how changing the instruction count (`IC`) affects performance.  There are two ways we can increase instruction count for `baseline_int()`:\n",
    "\n",
    "1.  We can run the same experiment multiple times.\n",
    "2.  We can increase the size of `array` with the `--size` parameter."
   ]
  },
  {
   "cell_type": "markdown",
   "metadata": {
    "editable": false
   },
   "source": [
    "### Running The Experiment Mutiple Times\n",
    "\n",
    "So far we've been passing `--reps` to control how many times we run an experiment.  This helps smooth out noise in the measurement, but we can crank it up to increase IC.  We'll run it 3 times with 25, 50, and 100 reps.\n",
    "\n",
    "<div class=\"alert alert-block alert-info\">\n",
    "    \n",
    "**Answer the question _before_ you look at the results.**  The goal of this question (and many more to follow) is for you to predict the answer and then see if the results match your intuition.  Don't be discouraged if you frequently get the prediction wrong:  They are intentionally challenging.  Also, a major goal of the lab is to highlight behavior that seems _non-intuitive_ so you can _improve your intuition_.\n",
    "</div\n",
    "\n",
    "Kick off the experiment below and the answer this question:"
   ]
  },
  {
   "cell_type": "markdown",
   "metadata": {
    "cse142L.is_response": true,
    "cse142L.points": 1,
    "cse142L.question_type": "completeness",
    "deletable": false,
    "editable": true
   },
   "source": [
    "<div class=\"question completeness\">\n",
    "    \n",
    "<div class=\"question-text\"> \n",
    "    \n",
    "In a moment, you'll see four graphs that show how each term of the performance equation changes as we increase `--reps`.  What _shape_ do you think each curve will have (linear? curved?) and what _direction_ will it go (increasing? Decreasing? flat?)?  For each term, predict the ratio between it's value at 100 and 25 (i.e., `value_at_100/value_at_25`).\n",
    "    \n",
    "</div>\n",
    "    \n",
    "<div class=\"answer\">\n",
    "\n",
    "|                        | IC      | CPI | CT | ET |\n",
    "|------------------------|---------|-----|----|----|\n",
    "|Shape                   | [PUT YOUR ANSWERS IN THE TABLE]       |     |    |    | \n",
    "|Direction               |         |     |    |    |\n",
    "|100 vs 25 ratio         |         |     |    |    |    \n",
    "\n",
    "</div>\n",
    "</div>"
   ]
  },
  {
   "cell_type": "code",
   "execution_count": null,
   "metadata": {
    "editable": false
   },
   "outputs": [],
   "source": [
    "#This takes a while...\n",
    "!cse142 job run --force './microbench.exe --MHz 3500 --stats 25.csv --reps 25 --function baseline_int --stat-set ./PE.cfg'\n",
    "!cse142 job run --force './microbench.exe --MHz 3500 --stats 50.csv --reps 50 --function baseline_int --stat-set ./PE.cfg'\n",
    "!cse142 job run --force './microbench.exe --MHz 3500 --stats 100.csv --reps 100 --function baseline_int --stat-set ./PE.cfg'\n"
   ]
  },
  {
   "cell_type": "code",
   "execution_count": null,
   "metadata": {
    "cse142L.is_response": true,
    "deletable": false,
    "editable": false
   },
   "outputs": [],
   "source": [
    "\n",
    "df = IC_avg_and_combine(\"25.csv\", \"50.csv\", \"100.csv\")\n",
    "plotPE(df=df, lines=True, what=[ ('reps', \"IC\"), (\"reps\", \"CPI\"), (\"reps\", \"CT\"), (\"reps\", \"ET\") ], columns=4)\n",
    "df[[\"reps\"] +  columns]"
   ]
  },
  {
   "cell_type": "markdown",
   "metadata": {
    "cse142L.is_response": true,
    "cse142L.points": 4,
    "cse142L.question_type": "correctness",
    "deletable": false,
    "editable": true
   },
   "source": [
    "<div class=\"question correctness points-4\">\n",
    "    \n",
    "<div class=\"question-text\">\n",
    "    \n",
    "Use the \"scratch pad\" to compute the actual ratio of the values at `reps = 100` and `reps = 25` and enter them in the table below.  How does these results differ from what you expected? (We won't check that you actually used the scratch pad, but you should.  It's a very useful tool.)  \n",
    "    \n",
    "</div>\n",
    "   \n",
    "<div class=\"answer\">\n",
    "\n",
    "|                     | IC      | CPI | CT | ET |\n",
    "|---------------------|---------|-----|----|----|\n",
    "|100 vs 25 reps ratio | <PUT YOUR ANSWER IN THE TABLE> \n",
    "|Differences compared to your expectations (if any):| | | | |\n",
    "\n",
    "\n",
    "\n",
    "</div>\n",
    "</div>\n"
   ]
  },
  {
   "cell_type": "markdown",
   "metadata": {
    "editable": false
   },
   "source": [
    "### Increasing the Size of `array`\n",
    "\n",
    "Instead of increasing `reps` we can increase the size of `array` so we'll run the same computation over more data.\n",
    "We will vary the size over a very large range: 10,000 to 20,480,000.\n",
    "\n",
    "Kick off the cell below to collect the data.  While it's running answer this question:"
   ]
  },
  {
   "cell_type": "markdown",
   "metadata": {
    "cse142L.is_response": true,
    "cse142L.points": 1,
    "cse142L.question_type": "completeness",
    "deletable": false,
    "editable": true
   },
   "source": [
    "<div class=\"question completeness\">\n",
    "\n",
    "<div class=\"question-text\">\n",
    "\n",
    "This time, the four graphs will show each term of the performance equation changes as we increase `--size`.  What _shape_ do you think each curve will have (linear? curved?) and what _direction_ will it go (increasing? Decreasing? flat?)?  For each term, predict the ratio between it's value at 5,120,000 and its value at 320,000.\n",
    "\n",
    "</div>\n",
    "    \n",
    "<div class=\"answer\">\n",
    "\n",
    "|                        | IC      | CPI | CT | ET |\n",
    "|------------------------|---------|-----|----|----|\n",
    "|Shape                   |         |     |    |    | \n",
    "|Direction               |         |     |    |    |\n",
    "|5,120,000 vs 320,000 ratio |         |     |    |    |    \n",
    "   \n",
    "</div>\n",
    "</div>"
   ]
  },
  {
   "cell_type": "code",
   "execution_count": null,
   "metadata": {
    "editable": false
   },
   "outputs": [],
   "source": [
    "!cse142 job run --force  './microbench.exe --stats array_size.csv --reps 25 --MHz 3500 --function baseline_int --size 10000 20000  40000 80000 160000 320000 640000 1280000 2560000 5120000  10240000  20480000  --stat-set ./PE.cfg'\n"
   ]
  },
  {
   "cell_type": "code",
   "execution_count": null,
   "metadata": {
    "cse142L.is_response": true,
    "deletable": false,
    "editable": false
   },
   "outputs": [],
   "source": [
    "\n",
    "plotPE(\"array_size.csv\", lines=True, what=[ ('size', \"IC\"), (\"size\", \"CPI\"), (\"size\", \"CT\"),(\"size\", \"ET\")], columns=5, average_by=\"size\")\n",
    "render_csv(\"array_size.csv\", columns=columns, average_by=\"size\")"
   ]
  },
  {
   "cell_type": "markdown",
   "metadata": {
    "cse142L.is_response": true,
    "cse142L.points": 4,
    "cse142L.question_type": "correctness",
    "deletable": false,
    "editable": true
   },
   "source": [
    "<div class=\"question correctness points-4\">\n",
    "\n",
    "<div class=\"question-text\">\n",
    "\n",
    "Compute the actual ratio of the values at 5,120,000 and 320,000.  How does these results differ from what you expected?  What is the _per-element_ (`array`) speedup for a an array of 5,120,000 vs an array of 320,000? \n",
    "\n",
    "</div>\n",
    "    \n",
    "<div class=\"answer\">\n",
    "\n",
    "|                     | IC      | CPI | CT | ET |\n",
    "|---------------------|---------|-----|----|----|\n",
    "|5,120,000 vs 320,000 ratio |         |     |    |    |    \n",
    "|Differences compared to your expectations| ||||\n",
    "\n",
    "**Speedup for 5,120,000 vs 320,000-element arrays:**\n",
    "    \n",
    "\n",
    "</div>\n",
    "    \n",
    "</div>"
   ]
  },
  {
   "attachments": {
    "image.png": {
     "image/png": "[encoded data removed]"
    }
   },
   "cell_type": "markdown",
   "metadata": {
    "editable": false
   },
   "source": [
    "<div class=\"alert alert-block alert-success\">\n",
    "    \n",
    "**Interesting Question:**  Why does increasing the size of `array` change CPI?  And why does this change occur so quickly?\n",
    "    \n",
    "    \n",
    "![image.png](attachment:image.png)\n",
    "</div>"
   ]
  },
  {
   "cell_type": "markdown",
   "metadata": {
    "editable": false
   },
   "source": [
    "## Cycle Time\n",
    "\n",
    "Next, we'll take a look at how clock rate affects performance.  Before we do, though, let's see what our options are for clock rate on our machine:"
   ]
  },
  {
   "cell_type": "code",
   "execution_count": null,
   "metadata": {
    "editable": false
   },
   "outputs": [],
   "source": [
    "!cse142 job run --force 'cpupower frequency-info -n'"
   ]
  },
  {
   "cell_type": "markdown",
   "metadata": {
    "editable": false
   },
   "source": [
    "As you can see, the processors in our target systems can run between 800MHz and 3501MHz at mostly 200MHz increments.\n",
    "\n",
    "Let's see how that affects things by plotting execution time as a function of clock speed (we are skipping 3501MHz for the moment.  We'll come back to it.).  The readings for the current clock speed may vary from run to run.  It just ends up at whatever the last experiment left it at.\n",
    "\n",
    "Kick off the cell below to collect the data.  While it's running answer this question:"
   ]
  },
  {
   "cell_type": "markdown",
   "metadata": {
    "cse142L.is_response": true,
    "cse142L.points": 1,
    "cse142L.question_type": "completeness",
    "deletable": false,
    "editable": true
   },
   "source": [
    "<div class=\"question completeness\">\n",
    "    \n",
    "<div class=\"question-text\">\n",
    "\n",
    "We are going to plot four graphs that show how each term of the performance equation changes as we increase clock rate.  What _shape_ do you think each curve will have (linear? curved?) and what _direction_ will it go (increasing? Decreasing? flat?)?  For each term, predict the ratio between its value at 3500MHz and its value at 1800Mhz.\n",
    "\n",
    "</div>\n",
    "    \n",
    "<div class=\"answer\">\n",
    "\n",
    "|                     | IC      | CPI | CT | ET |\n",
    "|---------------------|---------|-----|----|----|\n",
    "|Shape                |         |     |    |    | \n",
    "|Direction            |         |     |    |    |\n",
    "|3500MHz/1800Mhz ratio |         |     |    |    |    \n",
    "\n",
    "\n",
    "    \n",
    "</div>\n",
    "</div>"
   ]
  },
  {
   "cell_type": "code",
   "execution_count": null,
   "metadata": {
    "editable": false
   },
   "outputs": [],
   "source": [
    "!cse142 job run --force './microbench.exe --stats cycle_time.csv --MHz 800 1000 1200 1400 1600 1800 2000 2100 2300 2500 2700 2900 3100 3300 3500  --function baseline_int --reps 50 --calc per_element=ET/size --stat-set ./PE.cfg '"
   ]
  },
  {
   "cell_type": "code",
   "execution_count": null,
   "metadata": {
    "cse142L.is_response": true,
    "deletable": false,
    "editable": false
   },
   "outputs": [],
   "source": [
    "\n",
    "plotPE(\"cycle_time.csv\", lines=True, what=[ ('cmdlineMHz', \"IC\"), (\"cmdlineMHz\", \"CPI\"), (\"cmdlineMHz\", \"CT\"), (\"cmdlineMHz\", \"ET\") ], columns=4, average_by=\"cmdlineMHz\")\n",
    "render_csv(\"cycle_time.csv\", columns=columns, average_by=\"cmdlineMHz\")"
   ]
  },
  {
   "cell_type": "markdown",
   "metadata": {
    "cse142L.is_response": true,
    "cse142L.points": 4,
    "cse142L.question_type": "correctness",
    "deletable": false,
    "editable": true
   },
   "source": [
    "<div class=\"question correctness points-4\">\n",
    "    \n",
    "<div class=\"question-text\">\n",
    "\n",
    "Compute the actual ratio of the values at 3500MHz and 1800MHZ.  How do these results differ from what you expected?  How much speedup does double doubling the clock rate provide?\n",
    "</div>\n",
    "    \n",
    "<div class=\"answer\">\n",
    "\n",
    "|                     | IC      | CPI | CT | ET |\n",
    "|---------------------|---------|-----|----|----|\n",
    "|3500MHz/1800Mhz ratio |         |     |    |    |    \n",
    "|Differences compared to your expectations:| | | | |\n",
    "\n",
    "\n",
    "\n",
    "**How much speedup does doubling the clock rate from 1800MHz to 3500MHz provide? (show your work):**\n",
    "    \n",
    "\n",
    "    \n",
    "</div>\n",
    "    \n",
    "</div>"
   ]
  },
  {
   "attachments": {
    "image.png": {
     "image/png": "[encoded data removed]"
    }
   },
   "cell_type": "markdown",
   "metadata": {
    "editable": false
   },
   "source": [
    "<div class=\"alert alert-block alert-success\">\n",
    "    \n",
    "**Interesting question:** How can clock rate affect `CPI`?\n",
    "    \n",
    "![image.png](attachment:image.png)\n",
    "</div>"
   ]
  },
  {
   "cell_type": "markdown",
   "metadata": {
    "editable": false
   },
   "source": [
    "## Cycles Per Instruction\n",
    "\n",
    "Unlike `IC` and `CT` we can't set `CPI` directly, but we can adjust the code and see how `CPI` changes.  We'll do this in two ways.  First, we'll change the data type we are operating on. Then, we'll change the compiler options.  Finally, we'll restructure the code.\n",
    "\n",
    "### Floating Point vs Integer Operations\n",
    "\n",
    "Here's `baseline_double()` (on the left) that is identical to `baseline_int()` (on the right) but uses 64-bit floating point values (of type `double`) point instead of 64-bit integers (`uint64_t`):"
   ]
  },
  {
   "cell_type": "code",
   "execution_count": 68,
   "metadata": {
    "editable": false,
    "init_cell": true
   },
   "outputs": [],
   "source": [
    "compare([do_render_code(\"microbench.cpp\", show=\"baseline_double\"),\n",
    "        do_render_code(\"microbench.cpp\", show=\"baseline_int\")])\n",
    "     "
   ]
  },
  {
   "cell_type": "markdown",
   "metadata": {
    "editable": false
   },
   "source": [
    "Kick off the the cell below to run both functions, and answer this question:"
   ]
  },
  {
   "cell_type": "markdown",
   "metadata": {
    "cse142L.is_response": true,
    "cse142L.points": 1,
    "cse142L.question_type": "completeness",
    "deletable": false,
    "editable": true
   },
   "source": [
    "<div class=\"question completeness\">\n",
    "    \n",
    "<div class=\"question-text\"> \n",
    "    \n",
    "How do you think each term in the performance equation will change for `baseline_double()` compared to `baseline_int()`?\n",
    "    \n",
    "</div>\n",
    "    \n",
    "<div class=\"answer\">\n",
    "\n",
    "**IC:**\n",
    "    \n",
    "**CPI:**\n",
    "    \n",
    "**CT:**\n",
    "    \n",
    "**ET:**\n",
    "\n",
    "</div>\n",
    "</div>"
   ]
  },
  {
   "cell_type": "code",
   "execution_count": null,
   "metadata": {
    "editable": false
   },
   "outputs": [],
   "source": [
    "!make  microbench.exe\n",
    "!cse142 job run --force  './microbench.exe --stats int_double.csv  --reps 25 --MHz 3500 --function baseline_int baseline_double  --stat-set ./PE.cfg'\n"
   ]
  },
  {
   "cell_type": "code",
   "execution_count": null,
   "metadata": {
    "editable": false
   },
   "outputs": [],
   "source": [
    "plotPEBar(\"int_double.csv\", what=[ ('function', \"IC\"), (\"function\", \"CPI\"), (\"function\", \"CT\"), (\"function\", \"ET\") ], \n",
    "          columns=4, average_by=\"function\")\n",
    "render_csv(\"int_double.csv\", columns=[\"IC\", \"CPI\", \"CT\", \"ET\",], average_by=\"function\")"
   ]
  },
  {
   "cell_type": "markdown",
   "metadata": {
    "cse142L.is_response": true,
    "cse142L.points": 1,
    "cse142L.question_type": "completeness",
    "deletable": false,
    "editable": true
   },
   "source": [
    "<div class=\"question completeness\">\n",
    "\n",
    "<div class=\"question-text\"> \n",
    "    \n",
    "How did the results for each term in the PE differ from your predictions (if they did)?\n",
    "\n",
    "</div>\n",
    "    \n",
    "<div class=\"answer\">\n",
    "\n",
    "**IC:**\n",
    "\n",
    "**CPI:**\n",
    "\n",
    "**CT:**\n",
    "\n",
    "**ET:**\n",
    "    \n",
    "</div>\n",
    "    \n",
    "\n",
    "</div>"
   ]
  },
  {
   "cell_type": "markdown",
   "metadata": {
    "cse142L.is_response": true,
    "cse142L.question_type": "optional",
    "deletable": false,
    "editable": true
   },
   "source": [
    "<div class=\"question optional\">\n",
    "\n",
    "<div class=\"question-text\"> \n",
    "    \n",
    "In `microbench.cpp` there are also `baseline_char()` and `baseline_float()`. Copy the code cells above and modify them to see how those functions compare.  What did you find?\n",
    "    \n",
    "</div>\n",
    "    \n",
    "<div class=\"answer\">\n",
    "\n",
    "</div>\n",
    "    \n",
    "</div>"
   ]
  },
  {
   "attachments": {
    "image.png": {
     "image/png": "[encoded data removed]"
    }
   },
   "cell_type": "markdown",
   "metadata": {
    "editable": false
   },
   "source": [
    "<div class=\"alert alert-block alert-success\">\n",
    "\n",
    "**Interesting question:** How and why do the datatypes we use change `IC` and `CPI`?\n",
    "    \n",
    "![image.png](attachment:image.png)\n",
    "    \n",
    "_Does anyone else think this version of the \"thinking\" emoji looks like an alien?_\n",
    "</div>"
   ]
  },
  {
   "cell_type": "markdown",
   "metadata": {
    "editable": false
   },
   "source": [
    "### The Compiler's Effect\n",
    "\n",
    "`microbench.cpp` contains the following function:"
   ]
  },
  {
   "cell_type": "code",
   "execution_count": 69,
   "metadata": {
    "editable": false,
    "init_cell": true
   },
   "outputs": [],
   "source": [
    "render_code(\"microbench.cpp\", show=\"baseline_int_O4\")"
   ]
  },
  {
   "cell_type": "markdown",
   "metadata": {
    "editable": false
   },
   "source": [
    "It's identical to `baseline_int()` except that for the `__attribute__ ((optimize(4)))` which is a little bit of `gcc` magic to optimize this functions as much as it can (it's the equivalent of passing `-O4` on the command line but just for this function).\n",
    "\n",
    "Let's see how optimizations affect performance.  Kick off the experiment in the cell below and answer this question while it runs:"
   ]
  },
  {
   "cell_type": "markdown",
   "metadata": {
    "cse142L.is_response": true,
    "cse142L.points": 1,
    "cse142L.question_type": "completeness",
    "deletable": false,
    "editable": true
   },
   "source": [
    "<div class=\"question completeness\">\n",
    "    \n",
    "<div class=\"question-text\">\n",
    "    \n",
    "How do you think each term in the performance equation will change for `baseline_int()` compared to `baseline_int_O4()`?\n",
    "    \n",
    "</div>\n",
    "    \n",
    "<div class=\"answer\">\n",
    "\n",
    "**IC:**\n",
    "    \n",
    "**CPI:**\n",
    "    \n",
    "**CT:**\n",
    "    \n",
    "**ET:**\n",
    "    \n",
    "\n",
    "</div>\n",
    "</div>"
   ]
  },
  {
   "cell_type": "code",
   "execution_count": 15,
   "metadata": {
    "editable": false
   },
   "outputs": [],
   "source": [
    "!cse142 job run --force './microbench.exe --stats opt.csv  --reps 25  --MHz 3500 --function baseline_int baseline_int_O4 --stat-set ./PE.cfg '"
   ]
  },
  {
   "cell_type": "code",
   "execution_count": 57,
   "metadata": {
    "cse142L.is_response": true,
    "deletable": false,
    "editable": false
   },
   "outputs": [],
   "source": [
    "\n",
    "plotPEBar(\"opt.csv\", what=[ ('function', \"IC\"), (\"function\", \"CPI\"), (\"function\", \"CT\"), (\"function\", \"ET\") ], columns=4, average_by=\"function\")\n",
    "render_csv(\"opt.csv\", columns=[\"function\",\"IC\", \"CPI\", \"CT\", \"ET\",], average_by=\"function\")"
   ]
  },
  {
   "cell_type": "markdown",
   "metadata": {
    "cse142L.is_response": true,
    "cse142L.points": 1,
    "cse142L.question_type": "completeness",
    "deletable": false,
    "editable": true
   },
   "source": [
    "<div class=\"question completeness\">\n",
    "\n",
    "<div class=\"question-text\">\n",
    "    \n",
    "Based on the data above, describe in words what affect the optimizations had on the code and the value of each term of the PE. \n",
    "    \n",
    "</div>\n",
    "    \n",
    "<div class=\"answer\">\n",
    "        \n",
    "**IC:**\n",
    "    \n",
    "**CPI:**\n",
    "    \n",
    "**CT:**\n",
    "\n",
    "**ET:**\n",
    "   \n",
    "    \n",
    "</div>\n",
    "    \n",
    "</div>"
   ]
  },
  {
   "cell_type": "markdown",
   "metadata": {
    "editable": false
   },
   "source": [
    "### Code Structure\n",
    "\n",
    "These two functions increment all the elements in an array by `1.0`, but they do it slightly different ways."
   ]
  },
  {
   "cell_type": "code",
   "execution_count": 70,
   "metadata": {
    "editable": false,
    "init_cell": true
   },
   "outputs": [],
   "source": [
    "compare([do_render_code(\"microbench.cpp\", show=\"matrix_row_major\"),\n",
    "         do_render_code(\"microbench.cpp\", show=\"matrix_column_major\")])"
   ]
  },
  {
   "cell_type": "markdown",
   "metadata": {
    "editable": false
   },
   "source": [
    "We'll run both versions and compare their performance.  Kick off the  experiment below and answer this question:"
   ]
  },
  {
   "cell_type": "markdown",
   "metadata": {
    "cse142L.is_response": true,
    "cse142L.points": 1,
    "cse142L.question_type": "completeness",
    "deletable": false,
    "editable": true
   },
   "source": [
    "<div class=\"question completeness\">\n",
    "\n",
    "<div class=\"question-text\">\n",
    "    \n",
    "If `size` is equal to 8,388,608 how many times will \"This Line\" execute in each function?  Do you think one will be faster than the other?  Why?\n",
    "    \n",
    "</div>\n",
    "    \n",
    "<div class=\"answer\">\n",
    "        \n",
    "**How many times does `This Line` execute in `matrix_row_major()`:**\n",
    "\n",
    "\n",
    "    \n",
    "**How many times does `This Line` execute in `matrix_column_major()`:**\n",
    "\n",
    "\n",
    "    \n",
    "**Is there any difference in the \"Big-O\" running time of these two functions?**\n",
    "\n",
    "\n",
    "    \n",
    "**Do you think one will be faster than the other?  Why?**\n",
    "\n",
    "\n",
    "\n",
    "</div>\n",
    "    \n",
    "</div>"
   ]
  },
  {
   "cell_type": "code",
   "execution_count": 11,
   "metadata": {
    "editable": false,
    "scrolled": true
   },
   "outputs": [],
   "source": [
    "!cse142 job run --force './microbench.exe --stats matrix.csv --size 8388608 --reps 25  --MHz 3500 --function matrix_row_major matrix_column_major --stat-set ./PE.cfg'\n"
   ]
  },
  {
   "cell_type": "code",
   "execution_count": 12,
   "metadata": {
    "editable": false
   },
   "outputs": [],
   "source": [
    "plotPEBar(\"matrix.csv\", what=[ ('function', \"IC\"), (\"function\", \"CPI\"), (\"function\", \"CT\"), (\"function\", \"ET\") ], average_by=\"function\", columns=4, skip=2)\n",
    "render_csv(\"matrix.csv\", columns=[\"IC\", \"CPI\", \"CT\", \"ET\"], average_by=\"function\")"
   ]
  },
  {
   "cell_type": "markdown",
   "metadata": {
    "cse142L.is_response": true,
    "cse142L.points": 1,
    "cse142L.question_type": "completeness",
    "deletable": false,
    "editable": true
   },
   "source": [
    "<div class=\"question completeness\">\n",
    "\n",
    "    \n",
    "<div class=\"question-text\">\n",
    "\n",
    "Calculate the speedup of `matrix_row_major` over `matrix_column_major`.  Why is this result surprising?\n",
    "\n",
    "</div>\n",
    "    \n",
    "<div class=\"answer\">\n",
    "        \n",
    "**Speedup:**\n",
    "    \n",
    "\n",
    "    \n",
    "**Why is this surprising?:**\n",
    "\n",
    "\n",
    "</div>\n",
    "    \n",
    "</div>"
   ]
  },
  {
   "attachments": {
    "image.png": {
     "image/png": "[encoded data removed]"
    }
   },
   "cell_type": "markdown",
   "metadata": {
    "editable": false
   },
   "source": [
    "<div class=\"alert alert-block alert-success\">\n",
    "\n",
    "**Interesting Question:** Why does the order in which the program performs calculations affect `CPI`?\n",
    "    \n",
    "![image.png](attachment:image.png)\n",
    "</div>"
   ]
  },
  {
   "cell_type": "markdown",
   "metadata": {
    "editable": false
   },
   "source": [
    "# Amdahl's Law"
   ]
  },
  {
   "cell_type": "markdown",
   "metadata": {
    "editable": false
   },
   "source": [
    "Recall from CSE142 that Amdahl's Law limits the speed up an optimization can provide.  It's given as \n",
    "\n",
    "$$S_{tot} = \\frac{1}{\\left(\\frac{x}{S}\\right) + (1-x)}$$\n",
    "\n",
    "Where $S$ is the speedup provided by the optimization, $x$ is the fraction of execution time affected by the optimization, and $S_{tot}$ is total speedup.\n",
    "\n",
    "The function below (also in `microbench.cpp`) calls two of the other functions we have studied."
   ]
  },
  {
   "cell_type": "code",
   "execution_count": 71,
   "metadata": {
    "editable": false,
    "init_cell": true
   },
   "outputs": [],
   "source": [
    "render_code(\"microbench.cpp\", show=\"everything\")"
   ]
  },
  {
   "cell_type": "code",
   "execution_count": 10,
   "metadata": {
    "editable": false
   },
   "outputs": [],
   "source": [
    "!make microbench.exe\n",
    "!cse142 --pdb job run --force  './microbench.exe --stats everything.csv --size 8388608 --reps 25  --MHz 3500 --function matrix_column_major baseline_int everything --stat-set ./PE.cfg '"
   ]
  },
  {
   "cell_type": "code",
   "execution_count": null,
   "metadata": {
    "cse142L.is_response": true,
    "deletable": false,
    "editable": false
   },
   "outputs": [],
   "source": [
    "\n",
    "render_csv(\"everything.csv\", columns=[\"IC\", \"CPI\", \"CT\", \"ET\"], average_by=\"function\")"
   ]
  },
  {
   "cell_type": "markdown",
   "metadata": {
    "editable": false
   },
   "source": [
    "Imagine that you are a manager and your team is tasked with the improving the performance of `everything()`.  Members of your team propose two different approaches:\n",
    "\n",
    "1.  Option 1: Replacing `baseline_int()` with `baseline_int_O4()`\n",
    "2.  Option 2: Replacing `matrix_column_major()` with `matrix_row_major()`.\n",
    "\n",
    "To answer the question below you'll need to look at some csv files you created above.  For convenience, you can display them here, like so:"
   ]
  },
  {
   "cell_type": "code",
   "execution_count": 17,
   "metadata": {
    "cse142L.is_response": true,
    "deletable": false,
    "editable": false
   },
   "outputs": [],
   "source": [
    "\n",
    "display(render_csv(\"matrix.csv\", columns=columns, average_by=\"function\"))\n",
    "display(render_csv(\"opt.csv\", columns=columns, average_by=\"function\"))"
   ]
  },
  {
   "cell_type": "markdown",
   "metadata": {
    "cse142L.is_response": true,
    "cse142L.points": 1,
    "cse142L.question_type": "completeness",
    "deletable": false,
    "editable": true
   },
   "source": [
    "<div class=\"question completeness\">\n",
    "\n",
    "<div class=\"question-text\">\n",
    "    \n",
    "Based on the data you've collected, calculate the two speedups below and then decide which of the two options will give the best overall speedup for `everything()` (Show your work).\n",
    "    \n",
    "</div>\n",
    "    \n",
    "<div class=\"answer\">\n",
    "\n",
    "**Speedup of `baseline_int_O4()` vs `baseline_int()`:**\n",
    "\n",
    "**Speedup of `matrix_row_major()` vs `matrix_column_major()`:**\n",
    "    \n",
    "**Which of the two options will give the best speedup?**\n",
    "\n",
    "\n",
    "    \n",
    "</div>\n",
    "</div>"
   ]
  },
  {
   "cell_type": "markdown",
   "metadata": {
    "cse142L.is_response": true,
    "cse142L.points": 4,
    "cse142L.question_type": "correctness",
    "deletable": false,
    "editable": true
   },
   "source": [
    "<div class=\"question correctness points-4\">\n",
    "\n",
    "<div class=\"question-text\">\n",
    "\n",
    "Based on the data you collected earlier in this lab for the performance of `baseline_int()`, `baseline_int_O4()`, `matrix_column_major()`, and `matrix_row_major()`, use Amdahl's law to predict the speedup of each approach.  (Show your work, including the values of `x` and `S` and how you computed them.)\n",
    "\n",
    "</div>\n",
    "\n",
    "<div class=\"answer\">\n",
    "    \n",
    "**Option 1 (Replacing `baseline_int()` with `baseline_int_O4()`) Speedup:**\n",
    "\n",
    "x = \n",
    "    \n",
    "S = (Hint: you computed this in the previous question) \n",
    "\n",
    "S_tot = \n",
    "\n",
    "\n",
    "\n",
    "\n",
    "    \n",
    "**Option 2 (Replacing `matrix_column_major()` with `matrix_row_major()`) Speedup:**\n",
    "\n",
    "x = \n",
    "    \n",
    "S = (Hint: you computed this in the previous question)\n",
    "\n",
    "S_tot = \n",
    "\n",
    "\n",
    "\n",
    "\n",
    "\n",
    "\n",
    "</div>\n",
    "</div>"
   ]
  },
  {
   "cell_type": "markdown",
   "metadata": {
    "editable": false
   },
   "source": [
    "`microbench.cpp` has implementaitons of both options:"
   ]
  },
  {
   "cell_type": "code",
   "execution_count": 72,
   "metadata": {
    "editable": false,
    "init_cell": true
   },
   "outputs": [],
   "source": [
    "render_code(\"microbench.cpp\", show=\"option_1\")\n",
    "render_code(\"microbench.cpp\", show=\"option_2\")"
   ]
  },
  {
   "cell_type": "markdown",
   "metadata": {
    "editable": false
   },
   "source": [
    "Let's see how they perform:"
   ]
  },
  {
   "cell_type": "code",
   "execution_count": null,
   "metadata": {
    "editable": false
   },
   "outputs": [],
   "source": [
    "!cse142 job run --force  './microbench.exe --stats options.csv --size 8388608 --reps 25  --MHz 3500 --function option_1 option_2 --stat-set ./PE.cfg '"
   ]
  },
  {
   "cell_type": "code",
   "execution_count": null,
   "metadata": {
    "cse142L.is_response": true,
    "deletable": false,
    "editable": false
   },
   "outputs": [],
   "source": [
    "\n",
    "render_csv(\"options.csv\", columns=[\"IC\", \"CPI\", \"CT\", \"ET\"], average_by=\"function\")"
   ]
  },
  {
   "cell_type": "markdown",
   "metadata": {
    "cse142L.is_response": true,
    "cse142L.points": 2,
    "cse142L.question_type": "correctness",
    "deletable": false,
    "editable": true
   },
   "source": [
    "<div class=\"question correctness points-2\">\n",
    " \n",
    "    \n",
    "<div class=\"question-text\">\n",
    "\n",
    "What was the actual speedup for each option?  Did Amdahl's law get it right? \n",
    "    \n",
    "</div>\n",
    "    \n",
    "<div class=\"answer\">\n",
    "    \n",
    "**Option 1 speedup:**\n",
    "\n",
    "\n",
    "    \n",
    "**Option 2 speedup:**\n",
    "\n",
    "\n",
    "\n",
    "**Did Amdahl's Law get it right?:** \n",
    "\n",
    "\n",
    "    \n",
    "</div>\n",
    "</div>\n",
    "    "
   ]
  },
  {
   "cell_type": "markdown",
   "metadata": {
    "editable": false
   },
   "source": [
    "# Power and Energy"
   ]
  },
  {
   "cell_type": "markdown",
   "metadata": {
    "editable": false
   },
   "source": [
    "Power and energy consumption are both critical design considerations for modern processors, but they are important for different reasons:\n",
    "\n",
    "1.  Power primarily determines the cooling requirements for the system.  The more power a system consumes, the hotter it will be and the more cooling it will require.\n",
    "\n",
    "2.  Energy adds to the cost of performing the computation.  In practice this is either in energy purchased from a utility (e.g., for a data center) or in battery life (e.g., in your cell phone).\n",
    "\n",
    "Let's see what can affect the power and energy consumption of a system.\n",
    "\n",
    "\n",
    "## Clock Rate\n",
    "\n",
    "Recall the processor power equation from lecture:\n",
    "\n",
    "``` \n",
    "Power ~ idle_power + C*a*V*f^2\n",
    "```\n",
    "\n",
    "and that energy is then\n",
    "\n",
    "```\n",
    "Energy ~ ET * (idle_power + C*a*V*f^2)\n",
    "```\n",
    "\n",
    "Where `C` is the chip's capacitance (but you think of it as area or chip size), `a` as the activity factor (what fraction of the transistors switch each cycle), `V` is voltage, and `f` is frequency.\n",
    "\n",
    "We also noted that voltage is generally proportional to frequency, so power consumption is $O(\\mathrm{f}^3)$.  Hence clock speed has a large impact on energy.\n",
    "\n",
    "Let's see how the power and energy consumption of one of our functions behaves as we vary the clock rate: `matrix_row_major()`.\n",
    "\n",
    "The cell below will run `matrix_row_major()` at multiple clock rates between 800MHz and 3501MHz (recall that earlier, we stopped at 3500Mhz.  You'll now see why). Kick off the cell below, and while it's running answer this question:"
   ]
  },
  {
   "cell_type": "markdown",
   "metadata": {
    "cse142L.is_response": true,
    "cse142L.points": 1,
    "cse142L.question_type": "completeness",
    "deletable": false,
    "editable": true
   },
   "source": [
    "<div class=\"question completeness\">\n",
    "    \n",
    "<div class=\"question-text\">\n",
    "\n",
    "Based on the the power and energy equations what shape of curve (straight? descending? ascending? curved? flat?) would you expect for each of these metrics when plotted against *clock rate*?  Where will the minimum be (At small MHz values? large? In between?)?\n",
    "</div>\n",
    "    \n",
    "<div class=\"answer\">\n",
    "\n",
    "|                |  shape  |  Where will the minimum be | \n",
    "|----------------|---------|----------|\n",
    "| Energy vs. MHz         |         |    \n",
    "| Power  vs. MHz        |         |\n",
    "| Execution Time vs. MHz |         |\n",
    "\n",
    "</div>\n",
    "    \n",
    "</div>"
   ]
  },
  {
   "cell_type": "code",
   "execution_count": null,
   "metadata": {
    "editable": false
   },
   "outputs": [],
   "source": [
    "!cse142 job run --force  './microbench.exe --stats cycle_time_energy.csv --MHz 800 1000 1200 1400 1600 1800 2000 2100 2300 2500 2700 2900 3100 3300 3500  3501 --function matrix_row_major --reps 25  --stat-set ./power.cfg '\n"
   ]
  },
  {
   "cell_type": "markdown",
   "metadata": {
    "editable": false
   },
   "source": [
    "Run the cell below to plot the data"
   ]
  },
  {
   "cell_type": "code",
   "execution_count": 63,
   "metadata": {
    "cse142L.is_response": true,
    "deletable": false,
    "editable": false
   },
   "outputs": [],
   "source": [
    "\n",
    "plotPE(\"cycle_time_energy.csv\", lines=True, average_by=\"cmdlineMHz\", what=[  (\"cmdlineMHz\", \"realMHz\"), ('realMHz', \"ET\"), (\"realMHz\", \"power\"), (\"realMHz\", \"energy\")], columns=4)\n",
    "render_csv(\"cycle_time_energy.csv\", columns=[\"cmdlineMHz\", \"realMHz\", \"ET\", \"power\", \"energy\"], average_by=\"cmdlineMHz\")\n"
   ]
  },
  {
   "cell_type": "markdown",
   "metadata": {
    "editable": false
   },
   "source": [
    "The first graph shows why we skipped 3501Mhz earlier:  The behavior is unexpected.  For a `cmdlineMHz` of 3501, we get a measured value of over 3500!  This is not a measurement error, it's [TurboBoost](https://www.intel.com/content/www/us/en/architecture-and-technology/turbo-boost/turbo-boost-technology.html).  When the system has extra power available and we've requested the highest clock speed possible, the system will give you highest clock speed it can subject to 1) the capabilities of the chip and 2) the cooling capacity of the system.\n",
    "\n",
    "The rest of the graphs plot `realMHz` on the x-axis, since it actually reflects what the processor is doing.\n"
   ]
  },
  {
   "cell_type": "markdown",
   "metadata": {
    "cse142L.is_response": true,
    "cse142L.points": 3,
    "cse142L.question_type": "correctness",
    "deletable": false,
    "editable": true
   },
   "source": [
    "<div class=\"question correctness points-3\">\n",
    "    \n",
    "<div class=\"question-text\">\n",
    "    \n",
    "For `matrix_row_major()`, place one 'X' in each row to show which technique will work best to minimize each metric.  \"Tune clock rate\" means that selecting the maximum or minimum clock rate are not good choices.\n",
    "    \n",
    "</div>\n",
    "    \n",
    "<div class=\"answer\">\n",
    "    \n",
    "|                       | Minimize clock rate | Maximize clock rate | Tune clock rate | \n",
    "|-----------------------|---------------------|---------------------|-----------------|\n",
    "|minimize cooling costs |     \n",
    "|maximize battery life  |     \n",
    "|minimize latency       |     \n",
    "    \n",
    "</div>\n",
    "</div>\n",
    "    \n",
    "</div>"
   ]
  },
  {
   "cell_type": "markdown",
   "metadata": {
    "editable": false
   },
   "source": [
    "## Programs and Energy\n",
    "\n",
    "We've seen how the code we run and how we compile it can affect both `IC` and `CPI`.  But can it affect power and energy consumption?  How about clock rate?\n",
    "\n",
    "To prepare, let's gather some performance numbers about all the functions we've studied (there's nothing new here, it's just all in one place):"
   ]
  },
  {
   "cell_type": "code",
   "execution_count": 22,
   "metadata": {
    "editable": false
   },
   "outputs": [],
   "source": [
    "!cse142 job run --force  './microbench.exe --stats all_functions_pe.csv --MHz 3500 --function baseline_int baseline_int_O4 baseline_double_O4 baseline_double matrix_row_major matrix_column_major --power-viruses 0 --reps 40  --stat-set ./PE.cfg '"
   ]
  },
  {
   "cell_type": "code",
   "execution_count": 24,
   "metadata": {
    "editable": false
   },
   "outputs": [],
   "source": [
    "display(render_csv(\"all_functions_pe.csv\", columns=columns, average_by=\"function\"))\n",
    "plotPEBar(\"all_functions_pe.csv\", what=[(\"function\", \"IC\"), (\"function\", \"CPI\"), (\"function\", \"CT\"), (\"function\", \"ET\")], columns=2, average_by=\"function\")\n"
   ]
  },
  {
   "cell_type": "markdown",
   "metadata": {
    "editable": false
   },
   "source": [
    "Next, we'll measure the power and energy consumption of the same functions.  \n",
    "\n",
    "Kick off the experiment below (which will run all the functions and check their power and energy consumption), and while it's running answer this question:"
   ]
  },
  {
   "cell_type": "markdown",
   "metadata": {
    "cse142L.is_response": true,
    "cse142L.points": 1,
    "cse142L.question_type": "completeness",
    "deletable": false,
    "editable": true
   },
   "source": [
    "<div class=\"question completeness\">\n",
    "\n",
    "<div class=\"question-text\">\n",
    "\n",
    "For each pair of functions, which do you think will consume more power? more energy?  Why?     \n",
    "</div>\n",
    "\n",
    "<div class=\"answer\">\n",
    "\n",
    "|           | Power | Energy |\n",
    "|---------------|-------|--------|\n",
    "| baseline_int | | | \n",
    "|baseline_int_O4 |  | |\n",
    "\n",
    "    \n",
    "|           | Power | Energy |\n",
    "|---------------|-------|--------|\n",
    "|baseline_double_O4 | | |\n",
    "|baseline_double| | |\n",
    "\n",
    "|           | Power | Energy |\n",
    "|---------------|-------|--------|\n",
    "|matrix_row_major| | |\n",
    "|matrix_column_major| | |\n",
    "    \n",
    "</div>\n",
    "\n",
    "</div>"
   ]
  },
  {
   "cell_type": "code",
   "execution_count": null,
   "metadata": {
    "editable": false
   },
   "outputs": [],
   "source": [
    "!cse142 job run --force  './microbench.exe --stats functions_power.csv --MHz 3500 --function baseline_int baseline_int_O4 baseline_double_O4 baseline_double matrix_row_major matrix_column_major --power-viruses 0 --reps 40  --stat-set ./power.cfg '"
   ]
  },
  {
   "cell_type": "code",
   "execution_count": 44,
   "metadata": {
    "editable": false
   },
   "outputs": [],
   "source": [
    "plotPEBar(\"functions_power.csv\", what=[(\"function\", \"power\"), \n",
    "                                       (\"function\", \"energy\"), \n",
    "                                       (\"function\", \"ET\")], average_by=\"function\", columns=3)\n",
    "render_csv(\"functions_power.csv\", columns=[\"ET\", \"power\", \"energy\"], average_by=\"function\")\n"
   ]
  },
  {
   "cell_type": "markdown",
   "metadata": {
    "cse142L.is_response": true,
    "cse142L.points": 1,
    "cse142L.question_type": "completeness",
    "deletable": false,
    "editable": true
   },
   "source": [
    "<div class=\"question completeness\">\n",
    "\n",
    "<div class=\"question-text\">\n",
    "    \n",
    "Did the results match your expectations?  If not, where?  Does the data provide any clues about why?\n",
    "    \n",
    "</div>\n",
    "    \n",
    "<div class=\"answer\">\n",
    "    \n",
    "|           | What discrepency did you see (if any)? | If yes, why? |\n",
    "|---------------|-------|--------|\n",
    "| baseline_int vs baseline_int_O4 |  | |\n",
    "\n",
    "    \n",
    "|           | What discrepency did you see (if any)? | If yes, why? |\n",
    "|---------------|-------|--------|\n",
    "|baseline_double_O4 vs baseline_double| | |\n",
    "\n",
    "|           | What discrepency did you see (if any)? | If yes, why? |\n",
    "|---------------|-------|--------|\n",
    "|matrix_row_major vs matrix_column_major| | |\n",
    "\n",
    "\n",
    "</div>\n",
    "    \n",
    "</div>"
   ]
  },
  {
   "cell_type": "markdown",
   "metadata": {
    "editable": false
   },
   "source": [
    "# Programming Assignment"
   ]
  },
  {
   "cell_type": "markdown",
   "metadata": {
    "editable": false
   },
   "source": [
    "The labs will all have a programming assignment as part of them.  The main purpose of this one is to get you familiar with the autograding submission process.  It doesn't require any challenging programming.\n",
    "\n",
    "In the lab directory, you'll find `hello_world2.cpp`:"
   ]
  },
  {
   "cell_type": "code",
   "execution_count": 73,
   "metadata": {
    "editable": false,
    "init_cell": true
   },
   "outputs": [],
   "source": [
    "render_code(\"hello_world2.cpp\", show=\"main\")"
   ]
  },
  {
   "cell_type": "markdown",
   "metadata": {
    "editable": false
   },
   "source": [
    " Edit it so that it always writes \n",
    "\n",
    "```\n",
    "Hello <your @ucsd.edu email address>!\n",
    "```\n",
    "\n",
    "to the file. \n",
    "You can test it with:"
   ]
  },
  {
   "cell_type": "code",
   "execution_count": null,
   "metadata": {
    "editable": false
   },
   "outputs": [],
   "source": [
    "!make hello_world2.exe\n",
    "!./hello_world2.exe\n",
    "!cat hello.txt"
   ]
  },
  {
   "cell_type": "markdown",
   "metadata": {
    "editable": false
   },
   "source": [
    "And test it in the cloud like so:"
   ]
  },
  {
   "cell_type": "code",
   "execution_count": null,
   "metadata": {
    "editable": false
   },
   "outputs": [],
   "source": [
    "!cse142 job run --force ./hello_world2.exe"
   ]
  },
  {
   "cell_type": "markdown",
   "metadata": {
    "editable": false
   },
   "source": [
    "When your submit your code for autograding, it'll run in a more tightly controlled way that let's us reliably measure performance and grade your submission. You can simulate it like this:"
   ]
  },
  {
   "cell_type": "code",
   "execution_count": null,
   "metadata": {
    "editable": false
   },
   "outputs": [],
   "source": [
    "!cse142 job run --force --lab intro-bench autograde"
   ]
  },
  {
   "cell_type": "markdown",
   "metadata": {
    "editable": false
   },
   "source": [
    "The results of an `autograde` run end up in the `autograde` directory.  Once it's done, you can check the results just like the auto grader dose with:"
   ]
  },
  {
   "cell_type": "code",
   "execution_count": null,
   "metadata": {
    "editable": false
   },
   "outputs": [],
   "source": [
    "!./autograde.py --submission autograde --results -"
   ]
  },
  {
   "cell_type": "markdown",
   "metadata": {
    "editable": false
   },
   "source": [
    "If you ran the original code, it gets zero points (`\"score\": 0`).  Once you correctly modify `hello_world2.cpp`, you'll get 1 point.\n",
    "\n",
    "Once you are happy with your code, commit your changes to `hello_world2.cpp`.  You'll have to do this to turn it for official autograding."
   ]
  },
  {
   "cell_type": "code",
   "execution_count": null,
   "metadata": {
    "editable": false
   },
   "outputs": [],
   "source": [
    "!git add hello_world2.cpp\n",
    "!git commit -m \"Yay! I finished the first lab!\"\n",
    "!git push"
   ]
  },
  {
   "cell_type": "markdown",
   "metadata": {
    "editable": false
   },
   "source": [
    "If this asks you for a password, you'll need to interrupt your Jupyter notebook kernel and do it in a shell instead."
   ]
  },
  {
   "cell_type": "markdown",
   "metadata": {
    "editable": false
   },
   "source": [
    "# Recap\n",
    "\n",
    "This lab has collected real data to understand the how the performance equation, the power equation, and Amdahl's law apply to some simple programs.  This exploration presented the following questions:\n",
    "\n",
    "* Why does increasing the size of array change `CPI`? And why does this change occur so quickly?\n",
    "* How can clock rate affect `CPI`?\n",
    "* How and why do the datatypes we use change `IC` and  `CPI`?\n",
    "* Why does the order in which the program performs calculations affect `CPI`?\n",
    "\n",
    "Throughout the rest of the course and the labs, we'll find answers to most of these and see how can use those answers to make better use of modern processors."
   ]
  },
  {
   "cell_type": "markdown",
   "metadata": {
    "cse142L.is_response": true,
    "cse142L.points": 1,
    "cse142L.question_type": "completeness",
    "deletable": false,
    "editable": true
   },
   "source": [
    "<div class=\"question completeness\"> \n",
    "\n",
    "<div class=\"question-text\">\n",
    "\n",
    "Which of these questions do you find most interesting and why?\n",
    "    \n",
    "</div>\n",
    "    \n",
    "<div class=\"answer\">\n",
    "\n",
    "</div>\n",
    "</div>"
   ]
  },
  {
   "cell_type": "markdown",
   "metadata": {
    "cse142L.is_response": true,
    "cse142L.points": 1,
    "cse142L.question_type": "completeness",
    "deletable": false,
    "editable": true
   },
   "source": [
    "<div class=\"question completeness\"> \n",
    "\n",
    "<div class=\"question-text\">\n",
    "\n",
    "Give three other questions you have after completing this lab.\n",
    " \n",
    "</div>\n",
    "    \n",
    "<div class=\"answer\">\n",
    "\n",
    "1. question 1\n",
    "2. question 2 \n",
    "3. question 3\n",
    "    \n",
    "\n",
    "</div>\n",
    "</div>"
   ]
  },
  {
   "cell_type": "markdown",
   "metadata": {
    "editable": false
   },
   "source": [
    "# Turning In the Lab"
   ]
  },
  {
   "cell_type": "markdown",
   "metadata": {
    "editable": false
   },
   "source": [
    "For each lab, there are three different assignments on gradescope:\n",
    "\n",
    "1.  The reading quiz for the lab.\n",
    "2.  The lab notebook.\n",
    "3.  The programming assignment.\n",
    "\n",
    "In addition, there's a post-lab survey which is embedded below.\n",
    "\n",
    "## The Note Book\n",
    "\n",
    "You need to turn in your lab notebook and your programming assignment separately.  There will \n",
    "After you complete the lab, you will turn it in by creating a version of the notebook that only contains your answers and then printing that to a pdf.\n",
    "\n",
    "**Step 1:**  Save your workbook!!!"
   ]
  },
  {
   "cell_type": "code",
   "execution_count": 5,
   "metadata": {
    "editable": false
   },
   "outputs": [],
   "source": [
    "!for i in 1 2 3 4 5; do echo Save your notebook!; sleep 1; done"
   ]
  },
  {
   "cell_type": "markdown",
   "metadata": {
    "editable": false
   },
   "source": [
    "**Step 2:**  Run this command:"
   ]
  },
  {
   "cell_type": "code",
   "execution_count": 2,
   "metadata": {
    "editable": false
   },
   "outputs": [],
   "source": [
    "!turnin-lab Lab.ipynb\n",
    "!ls -lh Lab.turnin.ipynb"
   ]
  },
  {
   "attachments": {
    "image.png": {
     "image/png": "[encoded data removed]"
    }
   },
   "cell_type": "markdown",
   "metadata": {
    "editable": false
   },
   "source": [
    "The date in the above file listing should show that you just created `Lab.turnin.ipynb`\n",
    "\n",
    "**Step 3:**  Click on this link to open it: [./Lab.turnin.ipynb](./Lab.turnin.ipynb)\n",
    "\n",
    "**Step 4:**  Hide the table of contents by clicking the\n",
    "\n",
    "![image.png](attachment:image.png)\n",
    "\n",
    "**Step 5:**  Select \"Print\" from _your browser's_ \"file\" menu.  Print directly to a PDF.\n",
    "\n",
    "**Step 6:**  Make sure all your answers are visible and not cut off the side of the page.\n",
    "\n",
    "**Step 7:**  Turn in that PDF via gradescope."
   ]
  },
  {
   "cell_type": "markdown",
   "metadata": {
    "editable": false
   },
   "source": [
    "<div class=\"alert alert-block alert-danger\">\n",
    "\n",
    "**Print Carefully** It's important that you print directly to a PDF.  In particular, you should _not_ do any of the following:\n",
    "    \n",
    "1. **Do not** select \"Print Preview\" and then print that. (Remarkably, this is not the same as printing directly, so it's not clear what it is a preview of)\n",
    "2. **Do not** select `Download as-> PDF via LaTex.  It generates nothing useful.\n",
    "    \n",
    "</div>\n",
    "\n",
    "In gradescope, you'll need to show us where all your answers are.  Please do this carefully, if we can't find your answer, we can't grade it."
   ]
  },
  {
   "cell_type": "markdown",
   "metadata": {
    "editable": false
   },
   "source": [
    "## The Programming Assignment\n",
    "\n",
    "You'll turn in your programming assignment by providing gradescope with your github repo.   It'll run the autograder and return the results."
   ]
  },
  {
   "cell_type": "markdown",
   "metadata": {
    "editable": false
   },
   "source": [
    "## Lab Survey\n",
    "\n",
    "Please fill out this survey when you've finished the lab.  You can only submit once.  Be sure to press \"submit\", your answers won't be saved in the notebook."
   ]
  },
  {
   "cell_type": "code",
   "execution_count": 1,
   "metadata": {
    "deletable": false,
    "editable": false,
    "init_cell": true,
    "scrolled": false
   },
   "outputs": [],
   "source": [
    "from IPython.display import IFrame    \n",
    "IFrame('https://docs.google.com/forms/d/e/1FAIpQLScHbK7yLlixJqdYsRnpvLLT_Ra8vdhmx8bE0KS50HYuiV4f4Q/viewform?embedded=true', width=800, height=2000)\n"
   ]
  },
  {
   "cell_type": "markdown",
   "metadata": {
    "editable": false
   },
   "source": [
    "\n"
   ]
  }
 ],
 "metadata": {
  "kernelspec": {
   "display_name": "Python 3",
   "language": "python",
   "name": "python3"
  },
  "language_info": {
   "codemirror_mode": {
    "name": "ipython",
    "version": 3
   },
   "file_extension": ".py",
   "mimetype": "text/x-python",
   "name": "python",
   "nbconvert_exporter": "python",
   "pygments_lexer": "ipython3",
   "version": "3.7.6"
  },
  "toc": {
   "base_numbering": 1,
   "nav_menu": {},
   "number_sections": true,
   "sideBar": true,
   "skip_h1_title": false,
   "title_cell": "Table of Contents",
   "title_sidebar": "Contents",
   "toc_cell": false,
   "toc_position": {
    "height": "calc(100% - 180px)",
    "left": "10px",
    "top": "150px",
    "width": "347.188px"
   },
   "toc_section_display": true,
   "toc_window_display": true
  }
 },
 "nbformat": 4,
 "nbformat_minor": 4
}
